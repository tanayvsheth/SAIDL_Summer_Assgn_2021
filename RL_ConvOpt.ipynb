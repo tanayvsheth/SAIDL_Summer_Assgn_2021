{
 "cells": [
  {
   "cell_type": "code",
   "execution_count": 2,
   "metadata": {
    "id": "jLy_NWlBfGrf"
   },
   "outputs": [],
   "source": [
    "import numpy as np\n",
    "import gym\n",
    "from tensorboardX import SummaryWriter\n",
    "\n",
    "import time\n",
    "from collections import namedtuple\n",
    "from collections import deque\n",
    "import datetime\n",
    "\n",
    "import torch\n",
    "import torch.nn as nn\n",
    "import torch.nn.functional as F\n",
    "import torch.optim as optim\n",
    "from gym import Env\n",
    "from gym.spaces import Discrete, Box\n",
    "\n",
    "import random\n",
    "\n",
    "import matplotlib.pyplot as plt\n",
    "import tensorflow as tf\n",
    "from tensorflow.python.framework import ops\n"
   ]
  },
  {
   "cell_type": "code",
   "execution_count": 3,
   "metadata": {
    "id": "hcjgTDU1fUyQ"
   },
   "outputs": [],
   "source": [
    "class ConvOptEnv():\n",
    "    def __init__(self):\n",
    "        # \n",
    "        self.action_space =  Discrete(2)\n",
    "        # Temperature array\n",
    "        self.observation_space = Box(low=np.array([-np.inf]), high=np.array([np.inf]), dtype = np.float32)\n",
    "        # Set sampled coefficients\n",
    "        self.state = None\n",
    "        self.state_var_1 , self.state_var_2 = random.randint(0,10),random.randint(0,10)\n",
    "        self.state_var_3,self.state_var_4,self.state_var_5 = 0,0,0\n",
    "        self.state = [self.state_var_1,self.state_var_2,0,0,0]\n",
    "        self.x = random.randint(-100,100)\n",
    "        self.y = random.randint(-100,100)\n",
    "        self.z =(self.state_var_1*(self.x*self.x)) + (self.state_var_2*(self.y*self.y))\n",
    "        self.agent = [self.x,self.y]\n",
    "        self.minima = [0,0]\n",
    "        self.distance = np.sqrt(((self.agent[0] - self.minima[0])**2)+((self.agent[1] - self.minima[1])**2))\n",
    "        \n",
    "        self.steps = 0\n",
    "        self.distance = np.inf\n",
    "        \n",
    "    def step(self, action):\n",
    "        \n",
    "        self.steps = self.steps +1\n",
    "        \n",
    "        err_msg = \"%r (%s) invalid\" % (action, type(action))\n",
    "        assert self.action_space.contains(action), err_msg\n",
    "        state = np.array(self.state)\n",
    "        self.x += state[0]\n",
    "        self.y += state[1]\n",
    "        self.z = (self.state_var_1*(self.x*self.x)) + (self.state_var_2*(self.y*self.y))\n",
    "        \n",
    "        # Calculate reward\n",
    "        distance_new = np.sqrt(((self.x - self.minima[0])**2)+((self.y - self.minima[1])**2))\n",
    "        reward = 0\n",
    "        if self.z < self.z_prev :\n",
    "            reward  = (self.z_prev - self.z)\n",
    "        self.z_prev = self.z  \n",
    "        # Apply temperature noise\n",
    "        # Set placeholder for info\n",
    "        info = {self.x ,self.y ,self.state_var_1,self.state_var_2,self.state_var_3,self.state_var_4,self.state_var_5}\n",
    "        \n",
    "        self.state = (self.x, self.y)\n",
    "        done = False\n",
    "        if (self.steps == 500) or (distance_new == 0):\n",
    "            done = True\n",
    "        self.state = [self.x,self.y,self.z]\n",
    "        #reward = 1/(np.sqrt((self.agent[0]**2)+ (self.agent[0]**2)))\n",
    "        # Return step information\n",
    "        return np.array([self.z], dtype = np.float32), reward, done, info\n",
    "\n",
    "    def render(self):\n",
    "        # Implement viz\n",
    "        pass\n",
    "    \n",
    "    def reset(self):\n",
    "        self.state_var_1 , self.state_var_2 = random.randint(0,10),random.randint(0,10)\n",
    "        self.state_var_3,self.state_var_4,self.state_var_5 = 0,0,0\n",
    "        self.state = [self.state_var_1,self.state_var_2,0,0,0]\n",
    "        self.x = random.randint(-100,100)\n",
    "        self.y = random.randint(-100,100)\n",
    "        self.z =(self.state_var_1*(self.x*self.x)) + (self.state_var_2*(self.y*self.y))\n",
    "        self.agent = [self.x,self.y]\n",
    "        self.minima = [0,0]\n",
    "        self.distance = np.sqrt(((self.agent[0] - self.minima[0])**2)+((self.agent[1] - self.minima[1])**2))\n",
    "        \n",
    "        self.z_prev = self.z\n",
    "        self.steps = 0"
   ]
  },
  {
   "cell_type": "code",
   "execution_count": 4,
   "metadata": {},
   "outputs": [
    {
     "name": "stderr",
     "output_type": "stream",
     "text": [
      "C:\\ProgramData\\Anaconda3\\lib\\site-packages\\gym\\logger.py:30: UserWarning: \u001b[33mWARN: Box bound precision lowered by casting to float32\u001b[0m\n",
      "  warnings.warn(colorize('%s: %s'%('WARN', msg % args), 'yellow'))\n"
     ]
    }
   ],
   "source": [
    "env = ConvOptEnv()"
   ]
  },
  {
   "cell_type": "code",
   "execution_count": 5,
   "metadata": {},
   "outputs": [
    {
     "name": "stderr",
     "output_type": "stream",
     "text": [
      "<ipython-input-3-a08097397c11>:31: RuntimeWarning: overflow encountered in long_scalars\n",
      "  self.z = (self.state_var_1*(self.x*self.x)) + (self.state_var_2*(self.y*self.y))\n",
      "<ipython-input-3-a08097397c11>:34: RuntimeWarning: invalid value encountered in sqrt\n",
      "  distance_new = np.sqrt(((self.x - self.minima[0])**2)+((self.y - self.minima[1])**2))\n",
      "<ipython-input-3-a08097397c11>:34: RuntimeWarning: overflow encountered in long_scalars\n",
      "  distance_new = np.sqrt(((self.x - self.minima[0])**2)+((self.y - self.minima[1])**2))\n",
      "<ipython-input-3-a08097397c11>:37: RuntimeWarning: overflow encountered in long_scalars\n",
      "  reward  = (self.z_prev - self.z)\n",
      "<ipython-input-5-1abe8e8c27a4>:11: RuntimeWarning: overflow encountered in long_scalars\n",
      "  score+=reward\n"
     ]
    },
    {
     "name": "stdout",
     "output_type": "stream",
     "text": [
      "Episode:1 Score:1443105324\n",
      "Episode:2 Score:-2018230256\n",
      "Episode:3 Score:-1148578696\n",
      "Episode:4 Score:-1341361357\n",
      "Episode:5 Score:79430928\n",
      "Episode:6 Score:-1839199955\n",
      "Episode:7 Score:-1952254472\n",
      "Episode:8 Score:-1342173344\n",
      "Episode:9 Score:-1265302355\n",
      "Episode:10 Score:-1321729056\n"
     ]
    }
   ],
   "source": [
    "episodes = 10\n",
    "for episode in range(1, episodes+1):\n",
    "    state = env.reset()\n",
    "    done = False\n",
    "    score = 0 \n",
    "    \n",
    "    while not done:\n",
    "        #env.render()\n",
    "        action = env.action_space.sample()\n",
    "        n_state, reward, done, info = env.step(action)\n",
    "        score+=reward\n",
    "    print('Episode:{} Score:{}'.format(episode, score))"
   ]
  },
  {
   "cell_type": "code",
   "execution_count": 6,
   "metadata": {
    "id": "4nmpOPMJfGrg"
   },
   "outputs": [],
   "source": [
    "class PG_nn(nn.Module):\n",
    "      def __init__(self, input_shape, n_actions):\n",
    "        super(PG_nn, self).__init__()\n",
    "\n",
    "        self.mlp = nn.Sequential(\n",
    "            nn.Linear(input_shape[0], 64),\n",
    "            nn.ReLU(),\n",
    "            nn.Linear(64, n_actions))\n",
    "\n",
    "    def forward(self, x):\n",
    "        return self.mlp(x.float())"
   ]
  },
  {
   "cell_type": "code",
   "execution_count": 7,
   "metadata": {
    "id": "Gd3Z6Eg3fGrh"
   },
   "outputs": [],
   "source": [
    "def discounted_rewards(memories, gamma):\n",
    "     disc_rew = np.zeros(len(memories))\n",
    "    run_add = 0\n",
    "\n",
    "    for t in reversed(range(len(memories))):\n",
    "        if memories[t].done: run_add = 0\n",
    "        run_add = run_add * gamma + memories[t].reward\n",
    "        disc_rew[t] = run_add\n",
    "\n",
    "    return disc_rew"
   ]
  },
  {
   "cell_type": "code",
   "execution_count": 8,
   "metadata": {},
   "outputs": [
    {
     "data": {
      "text/plain": [
       "array([-1.8338774], dtype=float32)"
      ]
     },
     "execution_count": 8,
     "metadata": {},
     "output_type": "execute_result"
    }
   ],
   "source": [
    "env.observation_space.sample()"
   ]
  },
  {
   "cell_type": "code",
   "execution_count": 9,
   "metadata": {},
   "outputs": [],
   "source": [
    "obs = env.observation_space.sample()"
   ]
  },
  {
   "cell_type": "code",
   "execution_count": 10,
   "metadata": {
    "id": "VpxZlltJfGri"
   },
   "outputs": [],
   "source": [
    "Memory = namedtuple('Memory', ['obs', 'action', 'new_obs', 'reward', 'done'], rename=False)\n",
    "\n",
    "GAMMA = 0.99\n",
    "LEARNING_RATE = 0.002\n",
    "ENTROPY_BETA = 0.01\n",
    "\n",
    "max_iterations = 200\n",
    "iter_no = 0\n",
    "\n",
    "device = 'cpu'\n",
    "\n",
    "now = datetime.datetime.now()\n",
    "date_time = \"{}_{}.{}.{}\".format(now.day, now.hour, now.minute, now.second)"
   ]
  },
  {
   "cell_type": "code",
   "execution_count": 12,
   "metadata": {
    "colab": {
     "base_uri": "https://localhost:8080/"
    },
    "id": "kQAobxmefGrj",
    "outputId": "ce22b467-71dc-428b-fda1-00f38f2cb530"
   },
   "outputs": [
    {
     "name": "stderr",
     "output_type": "stream",
     "text": [
      "<ipython-input-12-1efa65e171ad>:28: UserWarning: Implicit dimension choice for softmax has been deprecated. Change the call to include dim=X as an argument.\n",
      "  act_soft = F.softmax(act)\n",
      "<ipython-input-3-a08097397c11>:31: RuntimeWarning: overflow encountered in long_scalars\n",
      "  self.z = (self.state_var_1*(self.x*self.x)) + (self.state_var_2*(self.y*self.y))\n",
      "<ipython-input-3-a08097397c11>:34: RuntimeWarning: overflow encountered in long_scalars\n",
      "  distance_new = np.sqrt(((self.x - self.minima[0])**2)+((self.y - self.minima[1])**2))\n",
      "<ipython-input-3-a08097397c11>:34: RuntimeWarning: invalid value encountered in sqrt\n",
      "  distance_new = np.sqrt(((self.x - self.minima[0])**2)+((self.y - self.minima[1])**2))\n",
      "<ipython-input-3-a08097397c11>:37: RuntimeWarning: overflow encountered in long_scalars\n",
      "  reward  = (self.z_prev - self.z)\n"
     ]
    },
    {
     "name": "stdout",
     "output_type": "stream",
     "text": [
      "0 -7298418000000000.0 36957217 3.856771132525276e-08 471552042.8244775\n",
      "1 3295134300000000.0 423103944 -261829323.34455776 225124444.3825408\n",
      "2 -2.6745612e+16 -2000551936 -901737123.9238572 -239406801.2752038\n",
      "3 -1.25832e+16 1082140160 -1215411062.5551245 -652646562.5439463\n",
      "4 2.1389395e+16 739446001 917798065.5547098 -419772426.5076764\n",
      "5 -56676780.0 -1126452889 -2585509012.484286 -943030202.8437821\n",
      "6 839173.56 -1983053824 38396113.50395214 -936567490.6698495\n",
      "7 4022335.0 -1582497792 184522453.3688993 -909983747.3878895\n",
      "8 64427480.0 -1311768576 2962757279.6883473 -536895793.6493566\n",
      "9 -2.2791244e+16 1870659584 -974932029.5207684 -626692164.7894275\n",
      "10 3884935000000000.0 586429169 3327922199.5843754 -285880855.1934373\n",
      "11 59502576.0 -516890719 2839786144.869853 -22075584.90498108\n",
      "12 -3.4799713e+16 -1625290311 -914233446.5423446 -95214260.62836851\n",
      "13 7753317.0 -338221397 386048696.63588 -64830798.39313726\n",
      "14 167789390.0 443809792 2853997284.091831 143400763.10712507\n",
      "15 5993980000000000.0 738460239 807883094.9267948 198336813.56214705\n",
      "16 54481270.0 212674895 2901038448.1911674 383047126.7428581\n",
      "17 28121150.0 1986485434 1523986390.3299599 474271664.1921867\n",
      "18 3.8707968e+16 -1893673987 1791558955.0765374 575456057.0038184\n",
      "19 -1.2889463e+16 -536870552 -994961329.4269664 525395109.61126655\n",
      "20 8184586.5 -2139365358 456067322.6126696 548608117.0496362\n",
      "21 28703652.0 -1870462976 1611426178.5642512 626654399.2023206\n",
      "22 37509584.0 1902117488 1060598116.4367427 675649420.8855398\n",
      "23 2.69415e+16 1935753216 707403750.8338648 706885430.6626195\n",
      "24"
     ]
    },
    {
     "name": "stderr",
     "output_type": "stream",
     "text": [
      "<ipython-input-12-1efa65e171ad>:35: RuntimeWarning: overflow encountered in long_scalars\n",
      "  game_rew += reward\n"
     ]
    },
    {
     "name": "stdout",
     "output_type": "stream",
     "text": [
      " 6134565.0 730873856 347280843.911618 721571436.4996779\n",
      "25 18918690.0 1799094272 1002418529.9807987 759849948.3843862\n",
      "26 -17220980.0 -950793945 -964914059.8714174 722140663.2859629\n",
      "27 -11143184.0 191856640 -621481315.2679704 698766366.0303093\n",
      "28 12121206.0 -2115502080 316725763.70059645 709571509.3548497\n",
      "29 -46047600.0 1950069984 -2547094440.07954 620291910.4242266\n",
      "30 -704887.5 1737949184 -36538259.57735601 619127344.3819206\n",
      "31 -47200916.0 1319895040 -2589334762.2720747 534149176.50812644\n",
      "32 -7294197.5 313720832 -374932112.66114026 522936253.51265335\n",
      "33 -4742233400000000.0 304091640 -412150244.74329853 510220184.2556005\n",
      "34 4.9365263e+16 -1828290560 1104692334.3769026 543283159.0520924\n",
      "35 1.0208882e+17 2025308160 3726157897.8358593 651564670.6131344\n",
      "36 24602792.0 -859521024 1257959394.5256534 687088440.890437\n",
      "37 8694431.0 1889140736 429205724.871146 698875997.1469951\n",
      "38 -26644446.0 -961019904 -1274327935.1549478 664813772.4651804\n",
      "39 2.242929e+16 -2085942499 393310459.32602525 675053095.2960265\n",
      "40 -1915257500000000.0 689179957 144240556.13690287 678712930.3024852\n",
      "41 289419860000000.0 1073741827 305713070.6030652 686277882.5590383\n",
      "42 52903284.0 -126025728 2247325036.3361835 740545674.6296564\n",
      "43 -52492804.0 -1963981480 -2178433396.058074 689181780.4091471\n",
      "44 171850.84 836632600 6977355.760335586 689342505.4063363\n",
      "45 -27831326.0 391151616 -1107815249.1278348 664398320.9888884\n",
      "46 42442080.0 -1141897410 1561111440.0239453 696752962.232908\n",
      "47 -7027265500000000.0 -983299872 -1133585415.4348724 672297439.3110898\n",
      "48 -13122947.0 71303168 -469947814.38347685 662956861.6339027\n",
      "49 -4750209700000000.0 2046820352 -2285244584.1028137 615637546.2505313\n",
      "50 -9691744000000000.0 -738186407 -875924057.5627027 598913459.2326277\n",
      "51 -3593009000000000.0 1065359464 -51412668.67963293 597950224.2222364\n",
      "52 -131206140.0 2136113152 -4906345606.478062 502079103.1761135\n",
      "53 31996120.0 -1957689205 1197100543.091069 525022405.5803391\n",
      "54 -43723436.0 -1318313815 -1444685898.8126173 501050847.52481997\n",
      "55 -51422612.0 1283744102 -1926142386.7257996 465420357.2371828\n",
      "56 99524440.0 -1385168041 1863246537.1151383 499261373.4027355\n",
      "57 3957190400000000.0 1485375200 455097335.2627391 507379584.00028694\n",
      "58 23696982.0 939788512 442092155.3139968 515127590.84599614\n",
      "59 -31522964.0 230165888 -585899784.9652823 505036105.18803287\n",
      "60 -127456940.0 -1566567581 -1573354509.0390563 478395640.3935469\n",
      "61 -3473918500000000.0 -1090519040 -1130950957.4403107 459564919.26084834\n",
      "62 -3180578700000000.0 624954684 231361782.52125326 463354081.40233314\n",
      "63 -88456640.0 -1401421824 -1625173642.4127183 437166449.24971104\n",
      "64 -75641420.0 530973718 -2777847845.2715917 393114757.6735758\n",
      "65 -16864702.0 411172864 -309239629.67761886 388287325.4380207\n",
      "66 -88585150.0 -727629824 -3243949908.388958 338425527.5694743\n",
      "67 -2.5983036e+16 1543405568 -2291480658.063818 303737040.31472373\n",
      "68 81614560.0 469005363 3015025463.2212305 348697946.3452158\n",
      "69 42758420.0 2134966272 1597181009.334667 372165601.6249819\n",
      "70 1665238.8 393084928 59165918.66668326 372971951.45348865\n",
      "71 20007674.0 2113290267 717744628.9112449 382622299.40523636\n",
      "72 -75953330.0 866648064 -2921119354.3825617 341445658.423061\n",
      "73 -6339335000000000.0 -254379464 -358783766.2579743 336458476.0629747\n",
      "74 -2.7899315e+16 -1701773312 -929908531.7818037 323709730.0627403\n",
      "75 -1.2809715e+16 -434929664 -1084113983.9123554 309047886.2071237\n",
      "76 -46566950.0 1939087737 -1699475232.427292 289038366.20209277\n",
      "77 3599817400000000.0 527319040 -43862426.97683901 288459885.78424466\n",
      "78 -7.65913e+16 693299741 -2633126854.9904404 254184880.7805406\n",
      "79 31837592.0 1744633856 1437756255.7648573 272659450.96043676\n",
      "80 -6304977600000000.0 -251657088 -258016341.86030948 269578658.8188212\n",
      "81 -6.067427e+16 1903820800 -2394267907.1215334 239562025.76493758\n",
      "82 1093921.6 909049856 55883586.71926395 240253956.55461532\n",
      "83 -39226110.0 -571342848 -1046256627.301248 227458012.19193807\n",
      "84 -35508932.0 -1321203512 -926613397.7183084 216920830.6969182\n",
      "85 7.8869636e+16 -1144256425 2135636042.2926192 240933604.18720773\n",
      "86 -28817572.0 -1843396160 -1677081985.4897103 221120960.8561966\n",
      "87 -3510559700000000.0 167772808 -293834277.2922488 217690203.49770197\n",
      "88 -6.664749e+16 2107644306 -1858968911.734801 198759766.51465914\n",
      "89 -16868398.0 -1092613847 -1027544172.5248934 187020350.56511393\n",
      "90 2.8438078e+16 1518798656 1417439226.548171 203031291.99456176\n",
      "91 -21608242.0 -883949568 -680856541.2511724 195426455.46284693\n",
      "92 110202950.0 1151074304 3513782447.755155 234240166.71160433\n",
      "93 1.4338004e+17 -343277568 2335529759.501455 258255896.8864265\n",
      "94 28017858.0 -1040990208 1800374092.37088 277725591.26957214\n",
      "95 6229709.5 870580284 398591051.4811314 281989938.57931364\n",
      "96 -5.778373e+16 -1179259223 -1440868117.4435835 266737909.93887722\n",
      "97 2747377.0 1116216752 155666198.03386506 268176599.38466156\n",
      "98 34272470.0 1602748416 1107855879.3397756 279674493.12628317\n",
      "99 63519104.0 -1186988032 2067270558.7050521 300909296.448329\n",
      "100 7390256.5 419430400 161540803.5580872 302551756.7715871\n",
      "101 -2.4035728e+16 -369418949 -1080560128.4926329 292315544.7787616\n",
      "102 -43672404.0 740427851 -2913158592.212792 263269388.72737306\n",
      "103 53542320.0 1201471488 3601478452.2768946 298824054.0518256\n",
      "104 -9.270552e+16 -1901199360 -1414157342.9792075 284999629.19233936\n",
      "105 20364384.0 1558289256 1412853973.5337622 298677600.4623132\n",
      "106 5.7035147e+16 -197118599 2077265469.4891877 318594979.4703878\n",
      "107 19111626.0 -1535639552 1368422505.401545 331591170.86246943\n",
      "108 8095531.0 238026752 275587494.36991316 334031347.90171605\n",
      "109 -9.413707e+16 2071986176 -1940399471.737055 319129761.1741687\n",
      "110 -148091140.0 0 -316203544.3780733 316203544.3780733\n",
      "111 31691180.0 -876347392 2273687825.2318544 335825445.78244746\n",
      "112 6.766223e+16 -2109567947 763985917.0603777 342770772.3011782\n",
      "113 1.1209232e+17 1151074925 3655197335.064319 375700478.0224783\n",
      "114 22707442.0 -1131093535 1759420409.6237607 391409588.82269037\n",
      "115 12182652.0 1919963324 935303367.8670124 399686609.7772658\n",
      "116 -1.8141913e+17 545832960 -2796709073.19279 375154074.0475045\n",
      "117 32201112.0 -116260864 2498856793.6489754 396883263.5574955\n",
      "118 11484180.0 604719909 907105774.6731279 404703140.92536736\n",
      "119 2721013.8 566493186 218457776.22890365 406570301.4059563\n",
      "120 6.127027e+16 -1932115968 1570240560.6914904 419877424.8016469\n",
      "121 49089636.0 1607794688 3781443882.8585544 449785038.30917865\n",
      "122 -1.3760371e+17 2061787006 -1405816846.2605617 438064152.3913614\n",
      "123 35689268.0 2768896 3001730092.9636626 462883905.1055551\n",
      "124 -30041518.0 1304172625 -2428397293.024828 444140848.33353525\n",
      "125 -919154.4 882900992 -80402409.58056495 443486544.37811655\n",
      "126 -6.6798716e+16 -1505230648 -1475834466.5872595 431573350.6782193\n",
      "127 -4641539.5 -281018368 -347895233.04919684 429279175.80177623\n",
      "128 -1.6479357e+16 2086142192 1095090145.5166068 437990702.46241367\n",
      "129 -2462979.5 713818112 -220141620.58300424 436355481.5110079\n",
      "130 22615542.0 -170770432 2190251326.0598364 453514132.4524905\n",
      "131 4536049.0 1837244032 223720083.20307142 455253154.5898715\n",
      "132 -2937470.0 -420437320 -294651193.7069617 452980436.67107916\n",
      "133 -8.215695e+16 -1173353401 -1066542973.4151468 445297101.4281065\n",
      "134 -23558446.0 1458518803 -2457970872.274579 426617841.3348262\n",
      "135 -19253990.0 -1533018112 -1931519663.5168805 412906965.28501695\n",
      "136 20379078.0 -712458240 2213457399.100937 429483518.49414295\n",
      "137 10050544.0 -1903345664 1111046843.5885527 437742283.837827\n",
      "138 -2325829.5 -305320149 -245952740.4409401 436034278.695876\n",
      "139 -30529140.0 -355031445 -3480836133.690665 410528151.85417724\n",
      "140 -40834852.0 1939869056 -2356921337.237292 393383238.4040129\n",
      "141 -9473890.0 -1336279040 -1104619341.935104 385405953.43676704\n",
      "142 34330624.0 1454637056 3800474254.2823424 411052342.33112276\n",
      "143 -15944199.0 1887141888 -1892210750.0494394 397576187.01028466\n",
      "144 32147516.0 1621032960 3844277642.461703 424761178.6583083\n",
      "145 24096202.0 -524287325 2562513130.036657 440637963.8506049\n",
      "146 -4562436.5 -559824896 -554209554.7941669 436770327.38447154\n",
      "147 2.1445633e+16 1054803160 773240325.4572836 442129106.6477304\n",
      "148 -1.7709799e+16 703596296 314305836.9487548 444292345.2016286\n",
      "149 11477157.0 1195378088 667263273.185579 448585152.74926394\n",
      "150 33086394.0 -1503068160 2055869014.7125077 462548306.2650901\n",
      "151 5187189.0 -1801799127 648737773.1196023 466924711.8774049\n",
      "152 -3760248.5 423102288 -473066918.26646024 463754771.9442044\n",
      "153 7.924619e+16 -2119761153 1314345164.2840438 472503349.78008085\n",
      "154 -2152791.2 387973120 -254901678.1839925 470917030.50705725\n",
      "155 -8733613.0 -882245088 -1093468846.712864 463731498.8510392\n",
      "156 2.3209138e+16 1094713344 404430258.7936502 466216477.39969444\n",
      "157 -29362736.0 2062024704 -1709376049.5450473 455777539.69254917\n",
      "158 26385056.0 693239808 3048826899.878697 474283317.53703296\n",
      "159 -25684842.0 -1599078400 -1567249638.016095 464236845.4984682\n",
      "160 -3281789.0 1035075584 -199005460.25290704 462969294.79622036\n",
      "161 41210544.0 -524287325 2338554523.4908266 476899627.0284815\n",
      "162 -290355230.0 0 -474092270.8723168 474092270.8723168\n",
      "163 33863068.0 -2016034816 4060828973.7716107 499491127.58832747\n",
      "164 23517622.0 -106954752 2653037390.292898 515011638.82952917\n",
      "165 -9.464584e+16 -1236331516 -708976786.5580366 510888182.4191588\n",
      "166 -3521136.0 361758720 -142511616.43709165 510012614.1215692\n",
      "167 16540123.0 1556938752 1015600253.2861061 516214196.12798584\n",
      "168 22606964.0 -10937036 2806314262.1541176 533246449.77190584\n",
      "169 1330234.5 1721221120 166863935.51473013 534253081.036544\n",
      "170 -2.6566864e+16 -50561024 -1407953537.7577982 525810326.1364091\n",
      "171 2607689.2 589561856 314446234.7915969 527574400.38488925\n"
     ]
    },
    {
     "name": "stdout",
     "output_type": "stream",
     "text": [
      "172 12273786.0 -1936457728 1589322091.5819051 536995068.2917554\n",
      "173 1933875.9 1589314146 252935027.0084344 538485499.993365\n",
      "174 -13733429.0 -1776609149 -1812675944.5125818 527866791.84149957\n",
      "175 -10720900.0 -1752955296 -1426126005.9480152 519561159.05591667\n",
      "176 -1.065381e+17 -1405222912 -1343382535.0402036 511782717.94703263\n",
      "177 -160145.33 373620736 -21889917.196456544 511656700.81450987\n",
      "178 8282948.0 -2043543552 1153372601.3978076 518258496.84944683\n",
      "179 -11979196.0 -1476394208 -1696788196.1574645 508601516.8244461\n",
      "180 -1.1471744e+17 -1427433637 -1496495859.6870642 500630833.1510131\n",
      "181 -15389744.0 1956642862 -2277549261.3604255 487810191.6135537\n",
      "182 -38116212.0 -1342176153 -1446703194.911527 479712083.50901115\n",
      "183 16408507.0 -1132898048 2545888040.335283 493883693.4257432\n",
      "184 10889027.0 -1361240561 1724095017.7024112 503427690.59309614\n",
      "185 1599173.5 1285364291 257992823.5406672 504847987.87295085\n",
      "186 6573327.0 1634205696 539333437.3489637 507800860.1547326\n",
      "187 -29279720.0 1974632448 -4880487944.902632 481225493.38236076\n",
      "188 -1433975.4 485818368 -242150587.88347322 479914069.3638776\n",
      "189 -16058304.0 1134297088 -2743607129.3289447 465135450.47965956\n",
      "190 15030864.0 -2130706432 1296841672.9474096 472083546.4267462\n",
      "191 -6149737.5 -563206139 -1008360636.3268449 467025938.2194643\n",
      "192 11178236.0 -1634856392 1963840717.2253726 477439316.9446144\n",
      "193 -1315144.5 488747008 -232914197.14452064 476210790.3074885\n",
      "194 31334990.0 -1543496704 1534399409.234312 482840911.2115873\n",
      "195 1.8938218e+16 1342179005 452983356.77890444 485068241.7919384\n",
      "196 -5105747.5 -1401745532 -921360446.2143719 480278294.5180411\n",
      "197 -110023460.0 0 -477807128.9590802 477807128.9590802\n",
      "198 11024259.0 -714522624 2000178178.794166 488098602.6393165\n",
      "199 13495684.0 -608960512 2310249595.3837852 499228983.1048813\n"
     ]
    }
   ],
   "source": [
    "env = ConvOptEnv()\n",
    "obs = env.reset()\n",
    "\n",
    "# Initialize the writer\n",
    "writer = SummaryWriter(log_dir='content/runs/Conv_OPT'+date_time)\n",
    "\n",
    "# create the agent neural net\n",
    "action_n = env.action_space.n\n",
    "agent_nn = PG_nn(env.observation_space.shape, action_n).to(device)\n",
    "\n",
    "# Adam optimizer\n",
    "optimizer = optim.Adam(agent_nn.parameters(), lr=LEARNING_RATE)\n",
    "\n",
    "experience = []\n",
    "tot_reward = 0\n",
    "n_iter = 0\n",
    "# deque list to keep the baseline\n",
    "baseline = deque(maxlen=5000)\n",
    "game_rew = 0\n",
    "l1 = []\n",
    "obs = env.observation_space.sample() \n",
    "## MAIN BODY\n",
    "while iter_no < max_iterations:\n",
    "    n_iter += 1\n",
    "    \n",
    "    # execute the agent\n",
    "    act = agent_nn(torch.tensor(obs))\n",
    "    act_soft = F.softmax(act)\n",
    "    # get an action following the policy distribution\n",
    "    action = int(np.random.choice(np.arange(action_n), p=act_soft.detach().numpy(), size=1))\n",
    "\n",
    "    # make a step in the env\n",
    "    new_obs, reward, done, info = env.step(action)\n",
    "\n",
    "    game_rew += reward\n",
    "    # update the experience list with the last memory\n",
    "    experience.append(Memory(obs=obs, action=action, new_obs=new_obs, reward=reward, done=done))\n",
    "\n",
    "    obs = new_obs\n",
    "\n",
    "    if done:\n",
    "        # Calculate the discounted rewards\n",
    "        disc_rewards = discounted_rewards(experience, GAMMA)\n",
    "\n",
    "        # update the baseline\n",
    "        baseline.extend(disc_rewards)\n",
    "        # subtract the baseline mean from the discounted reward.\n",
    "        disc_rewards -= np.mean(baseline)\n",
    "\n",
    "        # run the agent NN on the obs in the experience list\n",
    "        acts = agent_nn(torch.tensor([e.obs for e in experience]))\n",
    "\n",
    "        # take the log softmax of the action taken previously\n",
    "        game_act_log_softmax_t = F.log_softmax(acts, dim=1)[:,[e.action for e in experience]]\n",
    "\n",
    "        disc_rewards_t = torch.tensor(disc_rewards, dtype=torch.float32).to(device)\n",
    "\n",
    "        # compute the loss entropy\n",
    "        l_entropy = ENTROPY_BETA * torch.mean(torch.sum(F.softmax(acts, dim=1) * F.log_softmax(acts, dim=1), dim=1))\n",
    "\n",
    "        # compute the loss\n",
    "        loss = - torch.mean(disc_rewards_t * game_act_log_softmax_t)\n",
    "        loss = loss + l_entropy\n",
    "\n",
    "        # optimize\n",
    "        optimizer.zero_grad()\n",
    "        loss.backward()\n",
    "        optimizer.step()\n",
    "\n",
    "        # print the stats\n",
    "        writer.add_scalar('loss', loss, n_iter)\n",
    "        writer.add_scalar('reward', game_rew, n_iter)\n",
    "        \n",
    "        l1.append(experience)\n",
    "    \n",
    "        print(iter_no, loss.detach().numpy(), game_rew, np.mean(disc_rewards), np.mean(baseline))\n",
    "\n",
    "        # reset the variables and env\n",
    "        experience = []\n",
    "        game_rew = 0\n",
    "        obs = env.reset()\n",
    "        iter_no += 1\n",
    "        obs = new_obs\n",
    "        \n",
    "        \n",
    "        done = False\n",
    "        \n",
    "\n",
    "writer.close()"
   ]
  },
  {
   "cell_type": "code",
   "execution_count": 13,
   "metadata": {
    "id": "mxm5abIKfGrm"
   },
   "outputs": [
    {
     "data": {
      "text/plain": [
       "[]"
      ]
     },
     "execution_count": 13,
     "metadata": {},
     "output_type": "execute_result"
    }
   ],
   "source": [
    "experience\n"
   ]
  },
  {
   "cell_type": "code",
   "execution_count": 14,
   "metadata": {},
   "outputs": [],
   "source": [
    "l2 = []\n",
    "for i in l1:\n",
    "    l2.append(i[-1])\n",
    "    "
   ]
  },
  {
   "cell_type": "code",
   "execution_count": 16,
   "metadata": {},
   "outputs": [
    {
     "data": {
      "text/plain": [
       "[Memory(obs=array([-1.0737418e+09], dtype=float32), action=1, new_obs=array([0.], dtype=float32), reward=0, done=True),\n",
       " Memory(obs=array([-2.1474836e+09], dtype=float32), action=1, new_obs=array([0.], dtype=float32), reward=0, done=True),\n",
       " Memory(obs=array([-2.1474836e+09], dtype=float32), action=1, new_obs=array([0.], dtype=float32), reward=0, done=True),\n",
       " Memory(obs=array([0.], dtype=float32), action=1, new_obs=array([0.], dtype=float32), reward=0, done=True),\n",
       " Memory(obs=array([-1.0737418e+09], dtype=float32), action=1, new_obs=array([0.], dtype=float32), reward=0, done=True),\n",
       " Memory(obs=array([-2.1474836e+09], dtype=float32), action=1, new_obs=array([0.], dtype=float32), reward=0, done=True),\n",
       " Memory(obs=array([1.0737418e+09], dtype=float32), action=1, new_obs=array([0.], dtype=float32), reward=1073741824, done=True),\n",
       " Memory(obs=array([1.0737418e+09], dtype=float32), action=1, new_obs=array([0.], dtype=float32), reward=1073741824, done=True),\n",
       " Memory(obs=array([1.0737418e+09], dtype=float32), action=1, new_obs=array([0.], dtype=float32), reward=1073741824, done=True),\n",
       " Memory(obs=array([0.], dtype=float32), action=0, new_obs=array([0.], dtype=float32), reward=0, done=True),\n",
       " Memory(obs=array([0.], dtype=float32), action=1, new_obs=array([0.], dtype=float32), reward=0, done=True),\n",
       " Memory(obs=array([-1.0737418e+09], dtype=float32), action=1, new_obs=array([0.], dtype=float32), reward=0, done=True),\n",
       " Memory(obs=array([0.], dtype=float32), action=1, new_obs=array([0.], dtype=float32), reward=0, done=True),\n",
       " Memory(obs=array([-1.0737418e+09], dtype=float32), action=1, new_obs=array([0.], dtype=float32), reward=0, done=True),\n",
       " Memory(obs=array([0.], dtype=float32), action=1, new_obs=array([0.], dtype=float32), reward=0, done=True),\n",
       " Memory(obs=array([1.0737418e+09], dtype=float32), action=1, new_obs=array([0.], dtype=float32), reward=1073741824, done=True),\n",
       " Memory(obs=array([1.0737418e+09], dtype=float32), action=1, new_obs=array([0.], dtype=float32), reward=1073741824, done=True),\n",
       " Memory(obs=array([1.0737418e+09], dtype=float32), action=1, new_obs=array([0.], dtype=float32), reward=1073741824, done=True),\n",
       " Memory(obs=array([-1.0737418e+09], dtype=float32), action=1, new_obs=array([0.], dtype=float32), reward=0, done=True),\n",
       " Memory(obs=array([-2.1474836e+09], dtype=float32), action=1, new_obs=array([0.], dtype=float32), reward=0, done=True),\n",
       " Memory(obs=array([-1.0737418e+09], dtype=float32), action=1, new_obs=array([0.], dtype=float32), reward=0, done=True),\n",
       " Memory(obs=array([-1.0737418e+09], dtype=float32), action=1, new_obs=array([0.], dtype=float32), reward=0, done=True),\n",
       " Memory(obs=array([0.], dtype=float32), action=1, new_obs=array([0.], dtype=float32), reward=0, done=True),\n",
       " Memory(obs=array([1.0737418e+09], dtype=float32), action=1, new_obs=array([0.], dtype=float32), reward=1073741824, done=True),\n",
       " Memory(obs=array([1.0737418e+09], dtype=float32), action=1, new_obs=array([0.], dtype=float32), reward=1073741824, done=True),\n",
       " Memory(obs=array([-1.0737418e+09], dtype=float32), action=1, new_obs=array([0.], dtype=float32), reward=0, done=True),\n",
       " Memory(obs=array([1.0737418e+09], dtype=float32), action=1, new_obs=array([0.], dtype=float32), reward=1073741824, done=True),\n",
       " Memory(obs=array([-2.1474836e+09], dtype=float32), action=1, new_obs=array([0.], dtype=float32), reward=0, done=True),\n",
       " Memory(obs=array([0.], dtype=float32), action=1, new_obs=array([0.], dtype=float32), reward=0, done=True),\n",
       " Memory(obs=array([-2.1474836e+09], dtype=float32), action=1, new_obs=array([0.], dtype=float32), reward=0, done=True),\n",
       " Memory(obs=array([-1.0737418e+09], dtype=float32), action=1, new_obs=array([0.], dtype=float32), reward=0, done=True),\n",
       " Memory(obs=array([-1.0737418e+09], dtype=float32), action=1, new_obs=array([0.], dtype=float32), reward=0, done=True),\n",
       " Memory(obs=array([-1.0737418e+09], dtype=float32), action=1, new_obs=array([0.], dtype=float32), reward=0, done=True),\n",
       " Memory(obs=array([0.], dtype=float32), action=1, new_obs=array([0.], dtype=float32), reward=0, done=True),\n",
       " Memory(obs=array([-2.1474836e+09], dtype=float32), action=1, new_obs=array([0.], dtype=float32), reward=0, done=True),\n",
       " Memory(obs=array([-1.0737418e+09], dtype=float32), action=1, new_obs=array([0.], dtype=float32), reward=0, done=True),\n",
       " Memory(obs=array([-1.0737418e+09], dtype=float32), action=1, new_obs=array([0.], dtype=float32), reward=0, done=True),\n",
       " Memory(obs=array([-2.1474836e+09], dtype=float32), action=1, new_obs=array([0.], dtype=float32), reward=0, done=True),\n",
       " Memory(obs=array([-2.1474836e+09], dtype=float32), action=1, new_obs=array([0.], dtype=float32), reward=0, done=True),\n",
       " Memory(obs=array([-1.0737418e+09], dtype=float32), action=1, new_obs=array([0.], dtype=float32), reward=0, done=True),\n",
       " Memory(obs=array([0.], dtype=float32), action=1, new_obs=array([0.], dtype=float32), reward=0, done=True),\n",
       " Memory(obs=array([1.0737418e+09], dtype=float32), action=1, new_obs=array([0.], dtype=float32), reward=1073741824, done=True),\n",
       " Memory(obs=array([1.0737418e+09], dtype=float32), action=1, new_obs=array([0.], dtype=float32), reward=1073741824, done=True),\n",
       " Memory(obs=array([-1.0737418e+09], dtype=float32), action=1, new_obs=array([0.], dtype=float32), reward=0, done=True),\n",
       " Memory(obs=array([-2.1474836e+09], dtype=float32), action=1, new_obs=array([0.], dtype=float32), reward=0, done=True),\n",
       " Memory(obs=array([-2.1474836e+09], dtype=float32), action=1, new_obs=array([0.], dtype=float32), reward=0, done=True),\n",
       " Memory(obs=array([-1.0737418e+09], dtype=float32), action=1, new_obs=array([0.], dtype=float32), reward=0, done=True),\n",
       " Memory(obs=array([0.], dtype=float32), action=0, new_obs=array([0.], dtype=float32), reward=0, done=True),\n",
       " Memory(obs=array([1.0737418e+09], dtype=float32), action=1, new_obs=array([0.], dtype=float32), reward=1073741824, done=True),\n",
       " Memory(obs=array([0.], dtype=float32), action=0, new_obs=array([0.], dtype=float32), reward=0, done=True),\n",
       " Memory(obs=array([0.], dtype=float32), action=1, new_obs=array([0.], dtype=float32), reward=0, done=True),\n",
       " Memory(obs=array([0.], dtype=float32), action=1, new_obs=array([0.], dtype=float32), reward=0, done=True),\n",
       " Memory(obs=array([-2.1474836e+09], dtype=float32), action=1, new_obs=array([0.], dtype=float32), reward=0, done=True),\n",
       " Memory(obs=array([1.0737418e+09], dtype=float32), action=1, new_obs=array([0.], dtype=float32), reward=1073741824, done=True),\n",
       " Memory(obs=array([-1.0737418e+09], dtype=float32), action=1, new_obs=array([0.], dtype=float32), reward=0, done=True),\n",
       " Memory(obs=array([1.0737418e+09], dtype=float32), action=1, new_obs=array([0.], dtype=float32), reward=1073741824, done=True),\n",
       " Memory(obs=array([0.], dtype=float32), action=1, new_obs=array([0.], dtype=float32), reward=0, done=True),\n",
       " Memory(obs=array([1.0737418e+09], dtype=float32), action=1, new_obs=array([0.], dtype=float32), reward=1073741824, done=True),\n",
       " Memory(obs=array([0.], dtype=float32), action=1, new_obs=array([0.], dtype=float32), reward=0, done=True),\n",
       " Memory(obs=array([0.], dtype=float32), action=1, new_obs=array([0.], dtype=float32), reward=0, done=True),\n",
       " Memory(obs=array([0.], dtype=float32), action=1, new_obs=array([0.], dtype=float32), reward=0, done=True),\n",
       " Memory(obs=array([0.], dtype=float32), action=1, new_obs=array([0.], dtype=float32), reward=0, done=True),\n",
       " Memory(obs=array([0.], dtype=float32), action=0, new_obs=array([0.], dtype=float32), reward=0, done=True),\n",
       " Memory(obs=array([0.], dtype=float32), action=1, new_obs=array([0.], dtype=float32), reward=0, done=True),\n",
       " Memory(obs=array([-2.1474836e+09], dtype=float32), action=1, new_obs=array([0.], dtype=float32), reward=0, done=True),\n",
       " Memory(obs=array([0.], dtype=float32), action=1, new_obs=array([0.], dtype=float32), reward=0, done=True),\n",
       " Memory(obs=array([1.0737418e+09], dtype=float32), action=1, new_obs=array([0.], dtype=float32), reward=1073741824, done=True),\n",
       " Memory(obs=array([-2.1474836e+09], dtype=float32), action=1, new_obs=array([0.], dtype=float32), reward=0, done=True),\n",
       " Memory(obs=array([1.0737418e+09], dtype=float32), action=1, new_obs=array([0.], dtype=float32), reward=1073741824, done=True),\n",
       " Memory(obs=array([1.0737418e+09], dtype=float32), action=1, new_obs=array([0.], dtype=float32), reward=1073741824, done=True),\n",
       " Memory(obs=array([-2.1474836e+09], dtype=float32), action=1, new_obs=array([0.], dtype=float32), reward=0, done=True),\n",
       " Memory(obs=array([-2.1474836e+09], dtype=float32), action=1, new_obs=array([0.], dtype=float32), reward=0, done=True),\n",
       " Memory(obs=array([-2.1474836e+09], dtype=float32), action=1, new_obs=array([0.], dtype=float32), reward=0, done=True),\n",
       " Memory(obs=array([1.0737418e+09], dtype=float32), action=1, new_obs=array([0.], dtype=float32), reward=1073741824, done=True),\n",
       " Memory(obs=array([0.], dtype=float32), action=0, new_obs=array([0.], dtype=float32), reward=0, done=True),\n",
       " Memory(obs=array([-2.1474836e+09], dtype=float32), action=1, new_obs=array([0.], dtype=float32), reward=0, done=True),\n",
       " Memory(obs=array([1.0737418e+09], dtype=float32), action=1, new_obs=array([0.], dtype=float32), reward=1073741824, done=True),\n",
       " Memory(obs=array([1.0737418e+09], dtype=float32), action=1, new_obs=array([0.], dtype=float32), reward=1073741824, done=True),\n",
       " Memory(obs=array([-1.0737418e+09], dtype=float32), action=1, new_obs=array([0.], dtype=float32), reward=0, done=True),\n",
       " Memory(obs=array([1.0737418e+09], dtype=float32), action=1, new_obs=array([0.], dtype=float32), reward=1073741824, done=True),\n",
       " Memory(obs=array([1.0737418e+09], dtype=float32), action=1, new_obs=array([0.], dtype=float32), reward=1073741824, done=True),\n",
       " Memory(obs=array([-2.1474836e+09], dtype=float32), action=1, new_obs=array([0.], dtype=float32), reward=0, done=True),\n",
       " Memory(obs=array([-1.0737418e+09], dtype=float32), action=1, new_obs=array([0.], dtype=float32), reward=0, done=True),\n",
       " Memory(obs=array([0.], dtype=float32), action=1, new_obs=array([0.], dtype=float32), reward=0, done=True),\n",
       " Memory(obs=array([0.], dtype=float32), action=1, new_obs=array([0.], dtype=float32), reward=0, done=True),\n",
       " Memory(obs=array([-1.0737418e+09], dtype=float32), action=1, new_obs=array([0.], dtype=float32), reward=0, done=True),\n",
       " Memory(obs=array([-2.1474836e+09], dtype=float32), action=1, new_obs=array([0.], dtype=float32), reward=0, done=True),\n",
       " Memory(obs=array([0.], dtype=float32), action=1, new_obs=array([0.], dtype=float32), reward=0, done=True),\n",
       " Memory(obs=array([-2.1474836e+09], dtype=float32), action=1, new_obs=array([0.], dtype=float32), reward=0, done=True),\n",
       " Memory(obs=array([-2.1474836e+09], dtype=float32), action=1, new_obs=array([0.], dtype=float32), reward=0, done=True),\n",
       " Memory(obs=array([0.], dtype=float32), action=1, new_obs=array([0.], dtype=float32), reward=0, done=True),\n",
       " Memory(obs=array([0.], dtype=float32), action=1, new_obs=array([0.], dtype=float32), reward=0, done=True),\n",
       " Memory(obs=array([0.], dtype=float32), action=1, new_obs=array([0.], dtype=float32), reward=0, done=True),\n",
       " Memory(obs=array([-2.1474836e+09], dtype=float32), action=1, new_obs=array([0.], dtype=float32), reward=0, done=True),\n",
       " Memory(obs=array([-1.0737418e+09], dtype=float32), action=1, new_obs=array([0.], dtype=float32), reward=0, done=True),\n",
       " Memory(obs=array([1.0737418e+09], dtype=float32), action=1, new_obs=array([0.], dtype=float32), reward=1073741824, done=True),\n",
       " Memory(obs=array([-1.0737418e+09], dtype=float32), action=1, new_obs=array([0.], dtype=float32), reward=0, done=True),\n",
       " Memory(obs=array([-2.1474836e+09], dtype=float32), action=1, new_obs=array([0.], dtype=float32), reward=0, done=True),\n",
       " Memory(obs=array([0.], dtype=float32), action=1, new_obs=array([0.], dtype=float32), reward=0, done=True),\n",
       " Memory(obs=array([0.], dtype=float32), action=1, new_obs=array([0.], dtype=float32), reward=0, done=True),\n",
       " Memory(obs=array([0.], dtype=float32), action=1, new_obs=array([0.], dtype=float32), reward=0, done=True),\n",
       " Memory(obs=array([-1.0737418e+09], dtype=float32), action=1, new_obs=array([0.], dtype=float32), reward=0, done=True),\n",
       " Memory(obs=array([-2.1474836e+09], dtype=float32), action=1, new_obs=array([0.], dtype=float32), reward=0, done=True),\n",
       " Memory(obs=array([1.0737418e+09], dtype=float32), action=1, new_obs=array([0.], dtype=float32), reward=1073741824, done=True),\n",
       " Memory(obs=array([-2.1474836e+09], dtype=float32), action=1, new_obs=array([0.], dtype=float32), reward=0, done=True),\n",
       " Memory(obs=array([-2.1474836e+09], dtype=float32), action=1, new_obs=array([0.], dtype=float32), reward=0, done=True),\n",
       " Memory(obs=array([0.], dtype=float32), action=1, new_obs=array([0.], dtype=float32), reward=0, done=True),\n",
       " Memory(obs=array([-2.1474836e+09], dtype=float32), action=1, new_obs=array([0.], dtype=float32), reward=0, done=True),\n",
       " Memory(obs=array([0.], dtype=float32), action=1, new_obs=array([0.], dtype=float32), reward=0, done=True),\n",
       " Memory(obs=array([-2.1474836e+09], dtype=float32), action=1, new_obs=array([0.], dtype=float32), reward=0, done=True),\n",
       " Memory(obs=array([0.], dtype=float32), action=0, new_obs=array([0.], dtype=float32), reward=0, done=True),\n",
       " Memory(obs=array([1.0737418e+09], dtype=float32), action=1, new_obs=array([0.], dtype=float32), reward=1073741824, done=True),\n",
       " Memory(obs=array([-2.1474836e+09], dtype=float32), action=1, new_obs=array([0.], dtype=float32), reward=0, done=True),\n",
       " Memory(obs=array([-1.0737418e+09], dtype=float32), action=1, new_obs=array([0.], dtype=float32), reward=0, done=True),\n",
       " Memory(obs=array([-1.0737418e+09], dtype=float32), action=1, new_obs=array([0.], dtype=float32), reward=0, done=True),\n",
       " Memory(obs=array([1.0737418e+09], dtype=float32), action=1, new_obs=array([0.], dtype=float32), reward=1073741824, done=True),\n",
       " Memory(obs=array([-1.0737418e+09], dtype=float32), action=1, new_obs=array([0.], dtype=float32), reward=0, done=True),\n",
       " Memory(obs=array([-2.1474836e+09], dtype=float32), action=1, new_obs=array([0.], dtype=float32), reward=0, done=True),\n",
       " Memory(obs=array([1.0737418e+09], dtype=float32), action=1, new_obs=array([0.], dtype=float32), reward=1073741824, done=True),\n",
       " Memory(obs=array([1.0737418e+09], dtype=float32), action=1, new_obs=array([0.], dtype=float32), reward=1073741824, done=True),\n",
       " Memory(obs=array([1.0737418e+09], dtype=float32), action=1, new_obs=array([0.], dtype=float32), reward=1073741824, done=True),\n",
       " Memory(obs=array([1.0737418e+09], dtype=float32), action=1, new_obs=array([0.], dtype=float32), reward=1073741824, done=True),\n",
       " Memory(obs=array([1.0737418e+09], dtype=float32), action=1, new_obs=array([0.], dtype=float32), reward=1073741824, done=True),\n",
       " Memory(obs=array([1.0737418e+09], dtype=float32), action=1, new_obs=array([0.], dtype=float32), reward=1073741824, done=True),\n",
       " Memory(obs=array([-1.0737418e+09], dtype=float32), action=1, new_obs=array([0.], dtype=float32), reward=0, done=True),\n",
       " Memory(obs=array([-2.1474836e+09], dtype=float32), action=1, new_obs=array([0.], dtype=float32), reward=0, done=True),\n",
       " Memory(obs=array([-2.1474836e+09], dtype=float32), action=1, new_obs=array([0.], dtype=float32), reward=0, done=True),\n",
       " Memory(obs=array([1.0737418e+09], dtype=float32), action=1, new_obs=array([0.], dtype=float32), reward=1073741824, done=True),\n",
       " Memory(obs=array([0.], dtype=float32), action=0, new_obs=array([0.], dtype=float32), reward=0, done=True),\n",
       " Memory(obs=array([-1.0737418e+09], dtype=float32), action=1, new_obs=array([0.], dtype=float32), reward=0, done=True),\n",
       " Memory(obs=array([1.0737418e+09], dtype=float32), action=1, new_obs=array([0.], dtype=float32), reward=1073741824, done=True),\n",
       " Memory(obs=array([0.], dtype=float32), action=1, new_obs=array([0.], dtype=float32), reward=0, done=True),\n",
       " Memory(obs=array([1.0737418e+09], dtype=float32), action=1, new_obs=array([0.], dtype=float32), reward=1073741824, done=True),\n",
       " Memory(obs=array([1.0737418e+09], dtype=float32), action=1, new_obs=array([0.], dtype=float32), reward=1073741824, done=True),\n",
       " Memory(obs=array([-1.0737418e+09], dtype=float32), action=1, new_obs=array([0.], dtype=float32), reward=0, done=True),\n",
       " Memory(obs=array([-2.1474836e+09], dtype=float32), action=1, new_obs=array([0.], dtype=float32), reward=0, done=True),\n",
       " Memory(obs=array([-1.0737418e+09], dtype=float32), action=1, new_obs=array([0.], dtype=float32), reward=0, done=True),\n",
       " Memory(obs=array([1.0737418e+09], dtype=float32), action=1, new_obs=array([0.], dtype=float32), reward=1073741824, done=True),\n",
       " Memory(obs=array([1.0737418e+09], dtype=float32), action=1, new_obs=array([0.], dtype=float32), reward=1073741824, done=True),\n",
       " Memory(obs=array([-2.1474836e+09], dtype=float32), action=1, new_obs=array([0.], dtype=float32), reward=0, done=True),\n",
       " Memory(obs=array([0.], dtype=float32), action=1, new_obs=array([0.], dtype=float32), reward=0, done=True),\n",
       " Memory(obs=array([-2.1474836e+09], dtype=float32), action=1, new_obs=array([0.], dtype=float32), reward=0, done=True),\n",
       " Memory(obs=array([1.0737418e+09], dtype=float32), action=1, new_obs=array([0.], dtype=float32), reward=1073741824, done=True),\n",
       " Memory(obs=array([-2.1474836e+09], dtype=float32), action=1, new_obs=array([0.], dtype=float32), reward=0, done=True),\n",
       " Memory(obs=array([-1.0737418e+09], dtype=float32), action=1, new_obs=array([0.], dtype=float32), reward=0, done=True),\n",
       " Memory(obs=array([-1.0737418e+09], dtype=float32), action=1, new_obs=array([0.], dtype=float32), reward=0, done=True),\n",
       " Memory(obs=array([-1.0737418e+09], dtype=float32), action=1, new_obs=array([0.], dtype=float32), reward=0, done=True),\n",
       " Memory(obs=array([0.], dtype=float32), action=1, new_obs=array([0.], dtype=float32), reward=0, done=True),\n",
       " Memory(obs=array([0.], dtype=float32), action=0, new_obs=array([0.], dtype=float32), reward=0, done=True),\n",
       " Memory(obs=array([0.], dtype=float32), action=1, new_obs=array([0.], dtype=float32), reward=0, done=True),\n",
       " Memory(obs=array([0.], dtype=float32), action=1, new_obs=array([0.], dtype=float32), reward=0, done=True),\n",
       " Memory(obs=array([-2.1474836e+09], dtype=float32), action=1, new_obs=array([0.], dtype=float32), reward=0, done=True),\n",
       " Memory(obs=array([-2.1474836e+09], dtype=float32), action=1, new_obs=array([0.], dtype=float32), reward=0, done=True),\n",
       " Memory(obs=array([-1.0737418e+09], dtype=float32), action=1, new_obs=array([0.], dtype=float32), reward=0, done=True),\n",
       " Memory(obs=array([-2.1474836e+09], dtype=float32), action=1, new_obs=array([0.], dtype=float32), reward=0, done=True),\n",
       " Memory(obs=array([-2.1474836e+09], dtype=float32), action=1, new_obs=array([0.], dtype=float32), reward=0, done=True),\n",
       " Memory(obs=array([0.], dtype=float32), action=1, new_obs=array([0.], dtype=float32), reward=0, done=True),\n",
       " Memory(obs=array([0.], dtype=float32), action=1, new_obs=array([0.], dtype=float32), reward=0, done=True),\n",
       " Memory(obs=array([-2.1474836e+09], dtype=float32), action=1, new_obs=array([0.], dtype=float32), reward=0, done=True),\n",
       " Memory(obs=array([0.], dtype=float32), action=1, new_obs=array([0.], dtype=float32), reward=0, done=True),\n",
       " Memory(obs=array([0.], dtype=float32), action=1, new_obs=array([0.], dtype=float32), reward=0, done=True),\n",
       " Memory(obs=array([0.], dtype=float32), action=1, new_obs=array([0.], dtype=float32), reward=0, done=True),\n",
       " Memory(obs=array([0.], dtype=float32), action=1, new_obs=array([0.], dtype=float32), reward=0, done=True),\n",
       " Memory(obs=array([-1.0737418e+09], dtype=float32), action=1, new_obs=array([0.], dtype=float32), reward=0, done=True),\n",
       " Memory(obs=array([-2.1474836e+09], dtype=float32), action=1, new_obs=array([0.], dtype=float32), reward=0, done=True),\n",
       " Memory(obs=array([-1.0737418e+09], dtype=float32), action=1, new_obs=array([0.], dtype=float32), reward=0, done=True),\n",
       " Memory(obs=array([0.], dtype=float32), action=1, new_obs=array([0.], dtype=float32), reward=0, done=True),\n",
       " Memory(obs=array([0.], dtype=float32), action=1, new_obs=array([0.], dtype=float32), reward=0, done=True),\n",
       " Memory(obs=array([1.0737418e+09], dtype=float32), action=1, new_obs=array([0.], dtype=float32), reward=1073741824, done=True),\n",
       " Memory(obs=array([-1.0737418e+09], dtype=float32), action=1, new_obs=array([0.], dtype=float32), reward=0, done=True),\n",
       " Memory(obs=array([-2.1474836e+09], dtype=float32), action=1, new_obs=array([0.], dtype=float32), reward=0, done=True),\n",
       " Memory(obs=array([1.0737418e+09], dtype=float32), action=1, new_obs=array([0.], dtype=float32), reward=1073741824, done=True),\n",
       " Memory(obs=array([1.0737418e+09], dtype=float32), action=1, new_obs=array([0.], dtype=float32), reward=1073741824, done=True),\n",
       " Memory(obs=array([-1.0737418e+09], dtype=float32), action=1, new_obs=array([0.], dtype=float32), reward=0, done=True),\n",
       " Memory(obs=array([-1.0737418e+09], dtype=float32), action=1, new_obs=array([0.], dtype=float32), reward=0, done=True),\n",
       " Memory(obs=array([1.0737418e+09], dtype=float32), action=1, new_obs=array([0.], dtype=float32), reward=1073741824, done=True),\n",
       " Memory(obs=array([-2.1474836e+09], dtype=float32), action=1, new_obs=array([0.], dtype=float32), reward=0, done=True),\n",
       " Memory(obs=array([1.0737418e+09], dtype=float32), action=1, new_obs=array([0.], dtype=float32), reward=1073741824, done=True),\n",
       " Memory(obs=array([-2.1474836e+09], dtype=float32), action=1, new_obs=array([0.], dtype=float32), reward=0, done=True),\n",
       " Memory(obs=array([-2.1474836e+09], dtype=float32), action=1, new_obs=array([0.], dtype=float32), reward=0, done=True),\n",
       " Memory(obs=array([-1.0737418e+09], dtype=float32), action=1, new_obs=array([0.], dtype=float32), reward=0, done=True),\n",
       " Memory(obs=array([-2.1474836e+09], dtype=float32), action=1, new_obs=array([0.], dtype=float32), reward=0, done=True),\n",
       " Memory(obs=array([0.], dtype=float32), action=1, new_obs=array([0.], dtype=float32), reward=0, done=True),\n",
       " Memory(obs=array([1.0737418e+09], dtype=float32), action=1, new_obs=array([0.], dtype=float32), reward=1073741824, done=True),\n",
       " Memory(obs=array([1.0737418e+09], dtype=float32), action=1, new_obs=array([0.], dtype=float32), reward=1073741824, done=True),\n",
       " Memory(obs=array([1.0737418e+09], dtype=float32), action=1, new_obs=array([0.], dtype=float32), reward=1073741824, done=True),\n",
       " Memory(obs=array([0.], dtype=float32), action=1, new_obs=array([0.], dtype=float32), reward=0, done=True),\n",
       " Memory(obs=array([-2.1474836e+09], dtype=float32), action=1, new_obs=array([0.], dtype=float32), reward=0, done=True),\n",
       " Memory(obs=array([1.0737418e+09], dtype=float32), action=1, new_obs=array([0.], dtype=float32), reward=1073741824, done=True),\n",
       " Memory(obs=array([-1.0737418e+09], dtype=float32), action=1, new_obs=array([0.], dtype=float32), reward=0, done=True),\n",
       " Memory(obs=array([0.], dtype=float32), action=1, new_obs=array([0.], dtype=float32), reward=0, done=True),\n",
       " Memory(obs=array([-2.1474836e+09], dtype=float32), action=1, new_obs=array([0.], dtype=float32), reward=0, done=True),\n",
       " Memory(obs=array([-2.1474836e+09], dtype=float32), action=1, new_obs=array([0.], dtype=float32), reward=0, done=True),\n",
       " Memory(obs=array([-1.0737418e+09], dtype=float32), action=1, new_obs=array([0.], dtype=float32), reward=0, done=True),\n",
       " Memory(obs=array([0.], dtype=float32), action=1, new_obs=array([0.], dtype=float32), reward=0, done=True),\n",
       " Memory(obs=array([0.], dtype=float32), action=1, new_obs=array([0.], dtype=float32), reward=0, done=True),\n",
       " Memory(obs=array([-1.0737418e+09], dtype=float32), action=1, new_obs=array([0.], dtype=float32), reward=0, done=True),\n",
       " Memory(obs=array([0.], dtype=float32), action=1, new_obs=array([0.], dtype=float32), reward=0, done=True),\n",
       " Memory(obs=array([1.0737418e+09], dtype=float32), action=1, new_obs=array([0.], dtype=float32), reward=1073741824, done=True),\n",
       " Memory(obs=array([1.0737418e+09], dtype=float32), action=1, new_obs=array([0.], dtype=float32), reward=1073741824, done=True)]"
      ]
     },
     "execution_count": 16,
     "metadata": {},
     "output_type": "execute_result"
    }
   ],
   "source": [
    "l2"
   ]
  },
  {
   "cell_type": "code",
   "execution_count": 255,
   "metadata": {},
   "outputs": [
    {
     "data": {
      "text/plain": [
       "[<matplotlib.lines.Line2D at 0x20c1688bbe0>]"
      ]
     },
     "execution_count": 255,
     "metadata": {},
     "output_type": "execute_result"
    },
    {
     "data": {
      "image/png": "[encoded data removed]",
      "text/plain": [
       "<Figure size 432x288 with 1 Axes>"
      ]
     },
     "metadata": {
      "needs_background": "light"
     },
     "output_type": "display_data"
    }
   ],
   "source": [
    "plt.plot(baseline)"
   ]
  },
  {
   "cell_type": "code",
   "execution_count": 17,
   "metadata": {},
   "outputs": [],
   "source": [
    "l2 = []\n",
    "for i in l1[0]:\n",
    "    l2.append(i.new_obs)\n"
   ]
  },
  {
   "cell_type": "code",
   "execution_count": 18,
   "metadata": {},
   "outputs": [
    {
     "data": {
      "text/plain": [
       "[<matplotlib.lines.Line2D at 0x1b48f5f00a0>]"
      ]
     },
     "execution_count": 18,
     "metadata": {},
     "output_type": "execute_result"
    },
    {
     "data": {
      "image/png": "[encoded data removed]",
      "text/plain": [
       "<Figure size 432x288 with 1 Axes>"
      ]
     },
     "metadata": {
      "needs_background": "light"
     },
     "output_type": "display_data"
    }
   ],
   "source": [
    "plt.plot(l2)"
   ]
  },
  {
   "cell_type": "code",
   "execution_count": 19,
   "metadata": {},
   "outputs": [
    {
     "data": {
      "text/plain": [
       "{0, 6, 7, 720896, 1638400}"
      ]
     },
     "execution_count": 19,
     "metadata": {},
     "output_type": "execute_result"
    }
   ],
   "source": [
    "info"
   ]
  },
  {
   "cell_type": "code",
   "execution_count": 20,
   "metadata": {},
   "outputs": [
    {
     "data": {
      "text/plain": [
       "[Memory(obs=array([1.5816096], dtype=float32), action=0, new_obs=array([76175.], dtype=float32), reward=11297, done=False),\n",
       " Memory(obs=array([76175.], dtype=float32), action=1, new_obs=array([304700.], dtype=float32), reward=0, done=False),\n",
       " Memory(obs=array([304700.], dtype=float32), action=1, new_obs=array([1218800.], dtype=float32), reward=0, done=False),\n",
       " Memory(obs=array([1218800.], dtype=float32), action=1, new_obs=array([4875200.], dtype=float32), reward=0, done=False),\n",
       " Memory(obs=array([4875200.], dtype=float32), action=1, new_obs=array([19500800.], dtype=float32), reward=0, done=False),\n",
       " Memory(obs=array([19500800.], dtype=float32), action=1, new_obs=array([78003200.], dtype=float32), reward=0, done=False),\n",
       " Memory(obs=array([78003200.], dtype=float32), action=1, new_obs=array([3.120128e+08], dtype=float32), reward=0, done=False),\n",
       " Memory(obs=array([3.120128e+08], dtype=float32), action=1, new_obs=array([1.2480512e+09], dtype=float32), reward=0, done=False),\n",
       " Memory(obs=array([1.2480512e+09], dtype=float32), action=1, new_obs=array([6.972375e+08], dtype=float32), reward=550813696, done=False),\n",
       " Memory(obs=array([6.972375e+08], dtype=float32), action=1, new_obs=array([-1.5060173e+09], dtype=float32), reward=-2091712512, done=False),\n",
       " Memory(obs=array([-1.5060173e+09], dtype=float32), action=1, new_obs=array([-1.7291018e+09], dtype=float32), reward=223084544, done=False),\n",
       " Memory(obs=array([-1.7291018e+09], dtype=float32), action=1, new_obs=array([1.6735273e+09], dtype=float32), reward=0, done=False),\n",
       " Memory(obs=array([1.6735273e+09], dtype=float32), action=1, new_obs=array([-1.8958254e+09], dtype=float32), reward=-725614592, done=False),\n",
       " Memory(obs=array([-1.8958254e+09], dtype=float32), action=1, new_obs=array([1.00663296e+09], dtype=float32), reward=0, done=False),\n",
       " Memory(obs=array([1.00663296e+09], dtype=float32), action=1, new_obs=array([-2.6843546e+08], dtype=float32), reward=1275068416, done=False),\n",
       " Memory(obs=array([-2.6843546e+08], dtype=float32), action=1, new_obs=array([-1.0737418e+09], dtype=float32), reward=805306368, done=False),\n",
       " Memory(obs=array([-1.0737418e+09], dtype=float32), action=1, new_obs=array([0.], dtype=float32), reward=0, done=True)]"
      ]
     },
     "execution_count": 20,
     "metadata": {},
     "output_type": "execute_result"
    }
   ],
   "source": [
    "l1[0]"
   ]
  },
  {
   "cell_type": "code",
   "execution_count": null,
   "metadata": {},
   "outputs": [],
   "source": []
  }
 ],
 "metadata": {
  "colab": {
   "name": "PolicyGradient_SAMPLE.ipynb",
   "provenance": []
  },
  "kernelspec": {
   "display_name": "Python 3",
   "language": "python",
   "name": "python3"
  },
  "language_info": {
   "codemirror_mode": {
    "name": "ipython",
    "version": 3
   },
   "file_extension": ".py",
   "mimetype": "text/x-python",
   "name": "python",
   "nbconvert_exporter": "python",
   "pygments_lexer": "ipython3",
   "version": "3.8.3"
  }
 },
 "nbformat": 4,
 "nbformat_minor": 1
}
