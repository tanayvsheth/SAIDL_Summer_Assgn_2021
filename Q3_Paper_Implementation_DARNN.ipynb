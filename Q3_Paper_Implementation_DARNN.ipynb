{
  "nbformat": 4,
  "nbformat_minor": 5,
  "metadata": {
    "kernelspec": {
      "display_name": "strategy",
      "language": "python",
      "name": "strategy"
    },
    "language_info": {
      "codemirror_mode": {
        "name": "ipython",
        "version": 3
      },
      "file_extension": ".py",
      "mimetype": "text/x-python",
      "name": "python",
      "nbconvert_exporter": "python",
      "pygments_lexer": "ipython3",
      "version": "3.8.5"
    },
    "colab": {
      "name": "Q3_Paper_Implementation_DARNN.ipynb",
      "provenance": [],
      "collapsed_sections": []
    }
  },
  "cells": [
    {
      "cell_type": "code",
      "metadata": {
        "id": "upper-olive"
      },
      "source": [
        "from pathlib import Path\n",
        "import os\n",
        "import sys\n",
        "import tensorflow as tf\n"
      ],
      "id": "upper-olive",
      "execution_count": null,
      "outputs": []
    },
    {
      "cell_type": "code",
      "metadata": {
        "id": "extra-elements"
      },
      "source": [
        "BATCH_SIZE = 64\n",
        "WINDOW_SIZE = 5\n",
        "ENCODER_HIDDEN_STATES = 64\n",
        "DECODER_HIDDEN_STATES = 128\n",
        "\n",
        "Y_DIM = 1\n",
        "\n",
        "VALIDATION_RATIO = 0.2\n",
        "\n",
        "EPOCHS = 20"
      ],
      "id": "extra-elements",
      "execution_count": null,
      "outputs": []
    },
    {
      "cell_type": "code",
      "metadata": {
        "colab": {
          "base_uri": "https://localhost:8080/"
        },
        "id": "FQae0o8z8O-R",
        "outputId": "6bf5549b-74cc-46ff-cf4d-1e793862e2fb"
      },
      "source": [
        "!pip install yfinance"
      ],
      "id": "FQae0o8z8O-R",
      "execution_count": null,
      "outputs": [
        {
          "output_type": "stream",
          "text": [
            "Collecting yfinance\n",
            "  Downloading yfinance-0.1.63.tar.gz (26 kB)\n",
            "Requirement already satisfied: pandas>=0.24 in /usr/local/lib/python3.7/dist-packages (from yfinance) (1.1.5)\n",
            "Requirement already satisfied: numpy>=1.15 in /usr/local/lib/python3.7/dist-packages (from yfinance) (1.19.5)\n",
            "Requirement already satisfied: requests>=2.20 in /usr/local/lib/python3.7/dist-packages (from yfinance) (2.23.0)\n",
            "Requirement already satisfied: multitasking>=0.0.7 in /usr/local/lib/python3.7/dist-packages (from yfinance) (0.0.9)\n",
            "Collecting lxml>=4.5.1\n",
            "  Downloading lxml-4.6.3-cp37-cp37m-manylinux2014_x86_64.whl (6.3 MB)\n",
            "\u001b[K     |████████████████████████████████| 6.3 MB 7.6 MB/s \n",
            "\u001b[?25hRequirement already satisfied: pytz>=2017.2 in /usr/local/lib/python3.7/dist-packages (from pandas>=0.24->yfinance) (2018.9)\n",
            "Requirement already satisfied: python-dateutil>=2.7.3 in /usr/local/lib/python3.7/dist-packages (from pandas>=0.24->yfinance) (2.8.2)\n",
            "Requirement already satisfied: six>=1.5 in /usr/local/lib/python3.7/dist-packages (from python-dateutil>=2.7.3->pandas>=0.24->yfinance) (1.15.0)\n",
            "Requirement already satisfied: chardet<4,>=3.0.2 in /usr/local/lib/python3.7/dist-packages (from requests>=2.20->yfinance) (3.0.4)\n",
            "Requirement already satisfied: certifi>=2017.4.17 in /usr/local/lib/python3.7/dist-packages (from requests>=2.20->yfinance) (2021.5.30)\n",
            "Requirement already satisfied: urllib3!=1.25.0,!=1.25.1,<1.26,>=1.21.1 in /usr/local/lib/python3.7/dist-packages (from requests>=2.20->yfinance) (1.24.3)\n",
            "Requirement already satisfied: idna<3,>=2.5 in /usr/local/lib/python3.7/dist-packages (from requests>=2.20->yfinance) (2.10)\n",
            "Building wheels for collected packages: yfinance\n",
            "  Building wheel for yfinance (setup.py) ... \u001b[?25l\u001b[?25hdone\n",
            "  Created wheel for yfinance: filename=yfinance-0.1.63-py2.py3-none-any.whl size=23918 sha256=b08b0b3142c1a01d248354e28a436df6fc78cbf568bfc90c637f9b418d8dda08\n",
            "  Stored in directory: /root/.cache/pip/wheels/fe/87/8b/7ec24486e001d3926537f5f7801f57a74d181be25b11157983\n",
            "Successfully built yfinance\n",
            "Installing collected packages: lxml, yfinance\n",
            "  Attempting uninstall: lxml\n",
            "    Found existing installation: lxml 4.2.6\n",
            "    Uninstalling lxml-4.2.6:\n",
            "      Successfully uninstalled lxml-4.2.6\n",
            "Successfully installed lxml-4.6.3 yfinance-0.1.63\n"
          ],
          "name": "stdout"
        }
      ]
    },
    {
      "cell_type": "code",
      "metadata": {
        "colab": {
          "base_uri": "https://localhost:8080/"
        },
        "id": "jNtUHFFZ8Yrf",
        "outputId": "7059c15f-6106-4374-8972-bde1da234fb7"
      },
      "source": [
        "import yfinance as yf\n",
        "#Import and Stationarize the data \n",
        "data = yf.download([\"^NSEI\",\"HDFCBANK.NS\",\"HDFC.NS\",\"SBIN.NS\",\"INFY.NS\",\"RELIANCE.NS\"], start=\"2020-08-01\", end=\"2021-08-1\")\n",
        "st_returns = data['Adj Close'].diff()"
      ],
      "id": "jNtUHFFZ8Yrf",
      "execution_count": null,
      "outputs": [
        {
          "output_type": "stream",
          "text": [
            "[*********************100%***********************]  6 of 6 completed\n"
          ],
          "name": "stdout"
        }
      ]
    },
    {
      "cell_type": "code",
      "metadata": {
        "id": "J9wrHh8lAjDS"
      },
      "source": [
        ""
      ],
      "id": "J9wrHh8lAjDS",
      "execution_count": null,
      "outputs": []
    },
    {
      "cell_type": "code",
      "metadata": {
        "id": "PUYJzllLAjLK"
      },
      "source": [
        "from cvxopt import matrix, spmatrix, solvers\n",
        "\n",
        "def l1_trend_filter(y,lambdaaa):\n",
        "\n",
        "    n = len(y)\n",
        "    m = n-2\n",
        "    y = spmatrix(y,range(n),[0]*n,tc='d')\n",
        "    D = spmatrix([1,-2,1]*m,\n",
        "                 [j for i in range(m) for j in [i]*3],\n",
        "                 [j for i in range(m) for j in [i,i+1,i+2]],tc='d')\n",
        "\n",
        "    P = D * D.T\n",
        "    q = D * y * (-1)\n",
        "    q = matrix(q)\n",
        "    G = spmatrix([1]*m+[-1]*m, range(2*m), 2*[*range(m)])\n",
        "    h = matrix(lambdaaa, (2*m, 1))\n",
        "    res = solvers.qp(P, q, G, h)\n",
        "    sol = y - D.T * res['x']\n",
        "    return sol"
      ],
      "id": "PUYJzllLAjLK",
      "execution_count": null,
      "outputs": []
    },
    {
      "cell_type": "code",
      "metadata": {
        "colab": {
          "base_uri": "https://localhost:8080/"
        },
        "id": "-AKXHVCyAlDi",
        "outputId": "c1673561-37d1-47d8-87cc-2efd1d81021c"
      },
      "source": [
        "df1 = pd.DataFrame()\n",
        "for col in st_returns.columns:\n",
        "  a1 = l1_trend_filter(np.array(st_returns[col].dropna()),0.005)\n",
        "  l1 = []\n",
        "  for i in a1:\n",
        "    l1.append(i)\n",
        "  df1[col] = l1[:245]"
      ],
      "id": "-AKXHVCyAlDi",
      "execution_count": null,
      "outputs": [
        {
          "output_type": "stream",
          "text": [
            "     pcost       dcost       gap    pres   dres\n",
            " 0: -1.5507e+05 -8.6683e+04  1e+06  1e+03  1e-16\n",
            " 1: -1.0094e+05 -3.7704e+04  4e+05  4e+02  2e-16\n",
            " 2: -2.6111e+04 -3.3223e+03  1e+05  8e+01  7e-16\n",
            " 3: -9.5201e+02 -2.1271e+02  6e+03  3e+00  4e-16\n",
            " 4: -7.6052e+01 -1.9958e+02  2e+02  3e-02  3e-16\n",
            " 5: -8.2424e+01 -1.0844e+02  3e+01  5e-03  3e-16\n",
            " 6: -8.8183e+01 -9.7189e+01  1e+01  1e-03  2e-16\n",
            " 7: -9.0067e+01 -9.4286e+01  4e+00  3e-04  2e-16\n",
            " 8: -9.1470e+01 -9.2302e+01  9e-01  4e-05  2e-16\n",
            " 9: -9.1819e+01 -9.1860e+01  4e-02  1e-06  3e-16\n",
            "10: -9.1837e+01 -9.1838e+01  7e-04  1e-09  3e-16\n",
            "11: -9.1838e+01 -9.1838e+01  1e-05  2e-11  4e-16\n",
            "Optimal solution found.\n",
            "     pcost       dcost       gap    pres   dres\n",
            " 0: -4.5196e+04 -2.4552e+04  2e+05  5e+02  1e-16\n",
            " 1: -2.7762e+04 -9.4951e+03  1e+05  2e+02  2e-16\n",
            " 2: -9.4386e+03 -1.2419e+03  3e+04  5e+01  1e-15\n",
            " 3: -6.4706e+02 -1.0397e+02  2e+03  3e+00  7e-16\n",
            " 4: -4.5173e+01 -9.4668e+01  7e+01  3e-02  4e-16\n",
            " 5: -4.5715e+01 -5.7899e+01  2e+01  6e-03  3e-16\n",
            " 6: -4.7825e+01 -5.0542e+01  3e+00  8e-04  3e-16\n",
            " 7: -4.8692e+01 -4.9015e+01  3e-01  2e-05  2e-16\n",
            " 8: -4.8836e+01 -4.8841e+01  5e-03  2e-07  3e-16\n",
            " 9: -4.8838e+01 -4.8838e+01  5e-05  2e-09  3e-16\n",
            "Optimal solution found.\n",
            "     pcost       dcost       gap    pres   dres\n",
            " 0: -2.4546e+04 -1.4121e+04  1e+05  4e+02  1e-16\n",
            " 1: -1.6097e+04 -5.8083e+03  5e+04  1e+02  3e-16\n",
            " 2: -5.6453e+03 -7.6533e+02  1e+04  3e+01  5e-16\n",
            " 3: -3.8648e+02 -7.1973e+01  1e+03  2e+00  5e-16\n",
            " 4: -3.5925e+01 -6.5721e+01  4e+01  2e-02  4e-16\n",
            " 5: -3.7073e+01 -4.4255e+01  9e+00  4e-03  3e-16\n",
            " 6: -3.8096e+01 -4.0546e+01  3e+00  1e-03  2e-16\n",
            " 7: -3.8172e+01 -3.9964e+01  2e+00  5e-04  2e-16\n",
            " 8: -3.8753e+01 -3.8928e+01  2e-01  4e-05  2e-16\n",
            " 9: -3.8820e+01 -3.8823e+01  3e-03  3e-07  2e-16\n",
            "10: -3.8821e+01 -3.8821e+01  3e-05  3e-09  3e-16\n",
            "Optimal solution found.\n",
            "     pcost       dcost       gap    pres   dres\n",
            " 0: -9.7112e+04 -5.3939e+04  1e+06  1e+03  2e-16\n",
            " 1: -5.9626e+04 -2.2319e+04  3e+05  3e+02  9e-16\n",
            " 2: -1.9511e+04 -2.3395e+03  8e+04  6e+01  7e-16\n",
            " 3: -6.0379e+02 -1.7993e+02  3e+03  2e+00  8e-16\n",
            " 4: -6.1001e+01 -1.6598e+02  1e+02  2e-02  4e-16\n",
            " 5: -6.7023e+01 -8.3655e+01  2e+01  3e-03  2e-16\n",
            " 6: -7.1677e+01 -7.5650e+01  4e+00  4e-04  2e-16\n",
            " 7: -7.3014e+01 -7.3766e+01  8e-01  3e-05  3e-16\n",
            " 8: -7.3336e+01 -7.3364e+01  3e-02  6e-07  3e-16\n",
            " 9: -7.3349e+01 -7.3350e+01  3e-04  6e-09  3e-16\n",
            "10: -7.3349e+01 -7.3349e+01  3e-06  6e-11  3e-16\n",
            "Optimal solution found.\n",
            "     pcost       dcost       gap    pres   dres\n",
            " 0: -3.9075e+03 -2.2932e+03  3e+04  2e+02  2e-16\n",
            " 1: -2.5327e+03 -9.4408e+02  1e+04  5e+01  2e-16\n",
            " 2: -8.8350e+02 -1.3411e+02  3e+03  1e+01  8e-16\n",
            " 3: -5.3219e+01 -3.2719e+01  2e+02  7e-01  5e-16\n",
            " 4: -1.2594e+01 -2.7260e+01  2e+01  3e-03  4e-16\n",
            " 5: -1.4099e+01 -1.6159e+01  2e+00  4e-04  3e-16\n",
            " 6: -1.4660e+01 -1.5129e+01  5e-01  8e-05  2e-16\n",
            " 7: -1.4826e+01 -1.4881e+01  6e-02  4e-06  2e-16\n",
            " 8: -1.4850e+01 -1.4851e+01  1e-03  3e-17  3e-16\n",
            " 9: -1.4851e+01 -1.4851e+01  1e-05  4e-17  3e-16\n",
            "Optimal solution found.\n",
            "     pcost       dcost       gap    pres   dres\n",
            " 0: -1.6329e+06 -9.0283e+05  1e+07  4e+03  1e-16\n",
            " 1: -9.5409e+05 -3.3595e+05  5e+06  1e+03  4e-16\n",
            " 2: -3.1343e+05 -3.6705e+04  1e+06  3e+02  5e-16\n",
            " 3: -9.6547e+03 -7.5689e+02  7e+04  1e+01  4e-16\n",
            " 4: -2.9815e+02 -6.9714e+02  1e+03  1e-01  4e-16\n",
            " 5: -2.4354e+02 -3.6152e+02  1e+02  2e-05  3e-16\n",
            " 6: -2.7874e+02 -3.0382e+02  3e+01  1e-06  3e-16\n",
            " 7: -2.8720e+02 -2.9206e+02  5e+00  1e-07  2e-16\n",
            " 8: -2.8919e+02 -2.8948e+02  3e-01  5e-09  3e-16\n",
            " 9: -2.8931e+02 -2.8933e+02  1e-02  2e-11  2e-16\n",
            "10: -2.8932e+02 -2.8932e+02  1e-04  2e-13  3e-16\n",
            "Optimal solution found.\n"
          ],
          "name": "stdout"
        }
      ]
    },
    {
      "cell_type": "code",
      "metadata": {
        "colab": {
          "base_uri": "https://localhost:8080/",
          "height": 420
        },
        "id": "jN3G1odBBRpa",
        "outputId": "079bd0e3-848e-42b4-b5f2-e14ffd2a2aa8"
      },
      "source": [
        "df1"
      ],
      "id": "jN3G1odBBRpa",
      "execution_count": null,
      "outputs": [
        {
          "output_type": "execute_result",
          "data": {
            "text/html": [
              "<div>\n",
              "<style scoped>\n",
              "    .dataframe tbody tr th:only-of-type {\n",
              "        vertical-align: middle;\n",
              "    }\n",
              "\n",
              "    .dataframe tbody tr th {\n",
              "        vertical-align: top;\n",
              "    }\n",
              "\n",
              "    .dataframe thead th {\n",
              "        text-align: right;\n",
              "    }\n",
              "</style>\n",
              "<table border=\"1\" class=\"dataframe\">\n",
              "  <thead>\n",
              "    <tr style=\"text-align: right;\">\n",
              "      <th></th>\n",
              "      <th>HDFC.NS</th>\n",
              "      <th>HDFCBANK.NS</th>\n",
              "      <th>INFY.NS</th>\n",
              "      <th>RELIANCE.NS</th>\n",
              "      <th>SBIN.NS</th>\n",
              "      <th>^NSEI</th>\n",
              "    </tr>\n",
              "  </thead>\n",
              "  <tbody>\n",
              "    <tr>\n",
              "      <th>0</th>\n",
              "      <td>40.921147</td>\n",
              "      <td>39.474126</td>\n",
              "      <td>-6.905696</td>\n",
              "      <td>141.140996</td>\n",
              "      <td>-0.639043</td>\n",
              "      <td>203.645391</td>\n",
              "    </tr>\n",
              "    <tr>\n",
              "      <th>1</th>\n",
              "      <td>-4.345229</td>\n",
              "      <td>-14.024185</td>\n",
              "      <td>-5.025833</td>\n",
              "      <td>-24.057510</td>\n",
              "      <td>-0.163651</td>\n",
              "      <td>6.415391</td>\n",
              "    </tr>\n",
              "    <tr>\n",
              "      <th>2</th>\n",
              "      <td>6.966328</td>\n",
              "      <td>13.073262</td>\n",
              "      <td>25.575764</td>\n",
              "      <td>7.615488</td>\n",
              "      <td>-0.485422</td>\n",
              "      <td>98.480000</td>\n",
              "    </tr>\n",
              "    <tr>\n",
              "      <th>3</th>\n",
              "      <td>-5.975361</td>\n",
              "      <td>3.146475</td>\n",
              "      <td>-19.507161</td>\n",
              "      <td>12.300303</td>\n",
              "      <td>-0.287256</td>\n",
              "      <td>13.919414</td>\n",
              "    </tr>\n",
              "    <tr>\n",
              "      <th>4</th>\n",
              "      <td>21.047739</td>\n",
              "      <td>6.780752</td>\n",
              "      <td>0.420430</td>\n",
              "      <td>-26.494648</td>\n",
              "      <td>3.101201</td>\n",
              "      <td>56.090586</td>\n",
              "    </tr>\n",
              "    <tr>\n",
              "      <th>...</th>\n",
              "      <td>...</td>\n",
              "      <td>...</td>\n",
              "      <td>...</td>\n",
              "      <td>...</td>\n",
              "      <td>...</td>\n",
              "      <td>...</td>\n",
              "    </tr>\n",
              "    <tr>\n",
              "      <th>240</th>\n",
              "      <td>31.530049</td>\n",
              "      <td>5.529927</td>\n",
              "      <td>40.129902</td>\n",
              "      <td>26.879902</td>\n",
              "      <td>1.139994</td>\n",
              "      <td>-31.599609</td>\n",
              "    </tr>\n",
              "    <tr>\n",
              "      <th>241</th>\n",
              "      <td>-7.780049</td>\n",
              "      <td>-5.939951</td>\n",
              "      <td>0.270000</td>\n",
              "      <td>-14.990000</td>\n",
              "      <td>6.840006</td>\n",
              "      <td>-78.000000</td>\n",
              "    </tr>\n",
              "    <tr>\n",
              "      <th>242</th>\n",
              "      <td>-18.219951</td>\n",
              "      <td>-8.189951</td>\n",
              "      <td>13.430073</td>\n",
              "      <td>-28.839854</td>\n",
              "      <td>-5.580006</td>\n",
              "      <td>-37.039805</td>\n",
              "    </tr>\n",
              "    <tr>\n",
              "      <th>243</th>\n",
              "      <td>-30.330098</td>\n",
              "      <td>5.179951</td>\n",
              "      <td>-1.339976</td>\n",
              "      <td>-21.870098</td>\n",
              "      <td>6.630024</td>\n",
              "      <td>69.034805</td>\n",
              "    </tr>\n",
              "    <tr>\n",
              "      <th>244</th>\n",
              "      <td>-8.169902</td>\n",
              "      <td>-22.429951</td>\n",
              "      <td>3.059927</td>\n",
              "      <td>-17.630024</td>\n",
              "      <td>-4.430012</td>\n",
              "      <td>-15.395391</td>\n",
              "    </tr>\n",
              "  </tbody>\n",
              "</table>\n",
              "<p>245 rows × 6 columns</p>\n",
              "</div>"
            ],
            "text/plain": [
              "       HDFC.NS  HDFCBANK.NS    INFY.NS  RELIANCE.NS   SBIN.NS       ^NSEI\n",
              "0    40.921147    39.474126  -6.905696   141.140996 -0.639043  203.645391\n",
              "1    -4.345229   -14.024185  -5.025833   -24.057510 -0.163651    6.415391\n",
              "2     6.966328    13.073262  25.575764     7.615488 -0.485422   98.480000\n",
              "3    -5.975361     3.146475 -19.507161    12.300303 -0.287256   13.919414\n",
              "4    21.047739     6.780752   0.420430   -26.494648  3.101201   56.090586\n",
              "..         ...          ...        ...          ...       ...         ...\n",
              "240  31.530049     5.529927  40.129902    26.879902  1.139994  -31.599609\n",
              "241  -7.780049    -5.939951   0.270000   -14.990000  6.840006  -78.000000\n",
              "242 -18.219951    -8.189951  13.430073   -28.839854 -5.580006  -37.039805\n",
              "243 -30.330098     5.179951  -1.339976   -21.870098  6.630024   69.034805\n",
              "244  -8.169902   -22.429951   3.059927   -17.630024 -4.430012  -15.395391\n",
              "\n",
              "[245 rows x 6 columns]"
            ]
          },
          "metadata": {
            "tags": []
          },
          "execution_count": 39
        }
      ]
    },
    {
      "cell_type": "code",
      "metadata": {
        "id": "trained-removal",
        "colab": {
          "base_uri": "https://localhost:8080/"
        },
        "outputId": "8e39ba5e-fb0a-4714-abeb-fa67541f14b7"
      },
      "source": [
        "import numpy as np\n",
        "import pandas as pd\n",
        "from typing import Tuple\n",
        "from sklearn.preprocessing import StandardScaler\n",
        "\n",
        "features = st_returns.values\n",
        "\n",
        "print(features.shape)\n",
        "\n",
        "scale = StandardScaler().fit(features)\n",
        "features = scale.transform(features)\n",
        "\n",
        "features"
      ],
      "id": "trained-removal",
      "execution_count": null,
      "outputs": [
        {
          "output_type": "stream",
          "text": [
            "(248, 6)\n"
          ],
          "name": "stdout"
        },
        {
          "output_type": "execute_result",
          "data": {
            "text/plain": [
              "array([[        nan,         nan,         nan,         nan,         nan,\n",
              "                nan],\n",
              "       [ 0.86286532,  1.58652865, -0.55496505,  3.90196336, -0.22788859,\n",
              "         1.29388415],\n",
              "       [-0.16483159, -0.66310255, -0.44777167, -0.66977513, -0.15824389,\n",
              "        -0.09028607],\n",
              "       ...,\n",
              "       [-0.25083174, -1.0166474 ,  0.01853997, -0.49205943, -0.76295108,\n",
              "        -0.39519084],\n",
              "       [-0.31550983, -0.03303731,  0.4997986 ,  0.43629935,  2.11904306,\n",
              "         0.34934614],\n",
              "       [ 0.53208124,  0.27171495, -0.53187092, -0.50035866, -1.50805029,\n",
              "        -0.24326955]])"
            ]
          },
          "metadata": {
            "tags": []
          },
          "execution_count": 11
        }
      ]
    },
    {
      "cell_type": "code",
      "metadata": {
        "id": "under-brazilian",
        "colab": {
          "base_uri": "https://localhost:8080/"
        },
        "outputId": "a4abe1e6-5fbc-4f36-f27e-39661fd88b5d"
      },
      "source": [
        "def get_labels_from_features(features):\n",
        "    return features[WINDOW_SIZE - 1:, -Y_DIM:][:, None, :]\n",
        "\n",
        "\n",
        "def split_by_ratio(features):\n",
        "    length = len(features)\n",
        "    validation_length = int(VALIDATION_RATIO * length)\n",
        "    \n",
        "    return features[:-validation_length], features[-validation_length:]\n",
        "\n",
        "\n",
        "training_features, validation_features = split_by_ratio(features)\n",
        "\n",
        "print('training length', len(training_features))\n",
        "print('validation length', len(validation_features))"
      ],
      "id": "under-brazilian",
      "execution_count": null,
      "outputs": [
        {
          "output_type": "stream",
          "text": [
            "training length 199\n",
            "validation length 49\n"
          ],
          "name": "stdout"
        }
      ]
    },
    {
      "cell_type": "code",
      "metadata": {
        "colab": {
          "base_uri": "https://localhost:8080/"
        },
        "id": "184wEEJH8nOf",
        "outputId": "ec51bcf6-8106-4e02-a17a-6490496a51ef"
      },
      "source": [
        "!pip install get_rolling_window"
      ],
      "id": "184wEEJH8nOf",
      "execution_count": null,
      "outputs": [
        {
          "output_type": "stream",
          "text": [
            "Requirement already satisfied: get_rolling_window in /usr/local/lib/python3.7/dist-packages (1.0.0)\n",
            "Requirement already satisfied: numpy in /usr/local/lib/python3.7/dist-packages (from get_rolling_window) (1.19.5)\n"
          ],
          "name": "stdout"
        }
      ]
    },
    {
      "cell_type": "code",
      "metadata": {
        "id": "turned-contemporary",
        "colab": {
          "base_uri": "https://localhost:8080/"
        },
        "outputId": "5a2a42a0-57bc-4cc9-f024-73ef156167d4"
      },
      "source": [
        "import tensorflow as tf\n",
        "from get_rolling_window import rolling_window\n",
        "\n",
        "train_f, train_l = rolling_window(training_features, WINDOW_SIZE, 1), get_labels_from_features(training_features)\n",
        "train_ds = tf.data.Dataset.from_tensor_slices((train_f, train_l)).batch(BATCH_SIZE, drop_remainder=True)\n",
        "\n",
        "print(train_f.shape, train_l.shape)\n",
        "\n",
        "val_f, val_l = rolling_window(validation_features, WINDOW_SIZE, 1), get_labels_from_features(validation_features)\n",
        "val_ds = tf.data.Dataset.from_tensor_slices((val_f, val_l)).batch(BATCH_SIZE, drop_remainder=True)\n",
        "\n",
        "train_ds"
      ],
      "id": "turned-contemporary",
      "execution_count": null,
      "outputs": [
        {
          "output_type": "stream",
          "text": [
            "(195, 5, 6) (195, 1, 1)\n"
          ],
          "name": "stdout"
        },
        {
          "output_type": "execute_result",
          "data": {
            "text/plain": [
              "<BatchDataset shapes: ((64, 5, 6), (64, 1, 1)), types: (tf.float64, tf.float64)>"
            ]
          },
          "metadata": {
            "tags": []
          },
          "execution_count": 14
        }
      ]
    },
    {
      "cell_type": "code",
      "metadata": {
        "colab": {
          "base_uri": "https://localhost:8080/"
        },
        "id": "jMzTS8tA-Rda",
        "outputId": "1f41ccff-6564-4dde-b960-cc0af91eb1c3"
      },
      "source": [
        "!pip install da_rnn"
      ],
      "id": "jMzTS8tA-Rda",
      "execution_count": null,
      "outputs": [
        {
          "output_type": "stream",
          "text": [
            "Requirement already satisfied: da_rnn in /usr/local/lib/python3.7/dist-packages (1.0.2)\n",
            "Requirement already satisfied: numpy<=1.19.5 in /usr/local/lib/python3.7/dist-packages (from da_rnn) (1.19.5)\n"
          ],
          "name": "stdout"
        }
      ]
    },
    {
      "cell_type": "code",
      "metadata": {
        "id": "confidential-anthropology"
      },
      "source": [
        "from da_rnn.keras import DARNN\n",
        "from tensorflow.keras import Sequential\n",
        "from tensorflow.keras.layers import Reshape\n",
        "\n",
        "model = DARNN(\n",
        "    WINDOW_SIZE,\n",
        "    ENCODER_HIDDEN_STATES,\n",
        "    DECODER_HIDDEN_STATES,\n",
        "    Y_DIM\n",
        ")\n",
        "\n",
        "model.compile(\n",
        "    optimizer='adam',\n",
        "    loss='mse',\n",
        "    metrics=['mae', 'mape']\n",
        ")"
      ],
      "id": "confidential-anthropology",
      "execution_count": null,
      "outputs": []
    },
    {
      "cell_type": "code",
      "metadata": {
        "id": "indie-yugoslavia",
        "colab": {
          "base_uri": "https://localhost:8080/"
        },
        "outputId": "c6d7d28d-e73b-411f-b434-b62f33416fa9"
      },
      "source": [
        "feature_batch, label_batch = next(iter(train_ds))\n",
        "\n",
        "print('feature, label shape', feature_batch.shape, label_batch.shape)\n",
        "\n",
        "print('prediction shape', model(feature_batch).shape)\n",
        "\n",
        "model(feature_batch[:1])"
      ],
      "id": "indie-yugoslavia",
      "execution_count": null,
      "outputs": [
        {
          "output_type": "stream",
          "text": [
            "feature, label shape (64, 5, 6) (64, 1, 1)\n",
            "prediction shape (64, 1)\n"
          ],
          "name": "stdout"
        },
        {
          "output_type": "execute_result",
          "data": {
            "text/plain": [
              "<tf.Tensor: shape=(1, 1), dtype=float32, numpy=array([[nan]], dtype=float32)>"
            ]
          },
          "metadata": {
            "tags": []
          },
          "execution_count": 21
        }
      ]
    },
    {
      "cell_type": "code",
      "metadata": {
        "id": "controversial-tolerance",
        "colab": {
          "base_uri": "https://localhost:8080/"
        },
        "outputId": "58db2737-5bf1-4e88-d9d1-3bb12ce28a18"
      },
      "source": [
        "save_to = 'checkpoint.hdf5'\n",
        "\n",
        "history = model.fit(\n",
        "    train_ds,\n",
        "    validation_data=val_ds,\n",
        "    callbacks=[\n",
        "        # Save checkpoints on best validation loss\n",
        "        tf.keras.callbacks.ModelCheckpoint(\n",
        "            save_to,\n",
        "            monitor='mae',\n",
        "            save_best_only=True,\n",
        "            verbose=1\n",
        "        ),\n",
        "        # Stop early if the model overfits\n",
        "        tf.keras.callbacks.EarlyStopping(monitor='mae', patience=10)\n",
        "    ],\n",
        "    epochs=EPOCHS,\n",
        "    verbose=1\n",
        ")"
      ],
      "id": "controversial-tolerance",
      "execution_count": null,
      "outputs": [
        {
          "output_type": "stream",
          "text": [
            "Epoch 1/20\n",
            "3/3 [==============================] - 0s 38ms/step - loss: nan - mae: nan - mape: nan\n",
            "\n",
            "Epoch 00001: mae did not improve from inf\n",
            "Epoch 2/20\n",
            "3/3 [==============================] - 0s 37ms/step - loss: nan - mae: nan - mape: nan\n",
            "\n",
            "Epoch 00002: mae did not improve from inf\n",
            "Epoch 3/20\n",
            "3/3 [==============================] - 0s 40ms/step - loss: nan - mae: nan - mape: nan\n",
            "\n",
            "Epoch 00003: mae did not improve from inf\n",
            "Epoch 4/20\n",
            "3/3 [==============================] - 0s 39ms/step - loss: nan - mae: nan - mape: nan\n",
            "\n",
            "Epoch 00004: mae did not improve from inf\n",
            "Epoch 5/20\n",
            "3/3 [==============================] - 0s 38ms/step - loss: nan - mae: nan - mape: nan\n",
            "\n",
            "Epoch 00005: mae did not improve from inf\n",
            "Epoch 6/20\n",
            "3/3 [==============================] - 0s 43ms/step - loss: nan - mae: nan - mape: nan\n",
            "\n",
            "Epoch 00006: mae did not improve from inf\n",
            "Epoch 7/20\n",
            "3/3 [==============================] - 0s 41ms/step - loss: nan - mae: nan - mape: nan\n",
            "\n",
            "Epoch 00007: mae did not improve from inf\n",
            "Epoch 8/20\n",
            "3/3 [==============================] - 0s 46ms/step - loss: nan - mae: nan - mape: nan\n",
            "\n",
            "Epoch 00008: mae did not improve from inf\n",
            "Epoch 9/20\n",
            "3/3 [==============================] - 0s 43ms/step - loss: nan - mae: nan - mape: nan\n",
            "\n",
            "Epoch 00009: mae did not improve from inf\n",
            "Epoch 10/20\n",
            "3/3 [==============================] - 0s 40ms/step - loss: nan - mae: nan - mape: nan\n",
            "\n",
            "Epoch 00010: mae did not improve from inf\n"
          ],
          "name": "stdout"
        }
      ]
    },
    {
      "cell_type": "code",
      "metadata": {
        "id": "ambient-spectrum",
        "colab": {
          "base_uri": "https://localhost:8080/",
          "height": 598
        },
        "outputId": "a9c6abcb-a62e-4f2c-d48c-35e8d3b42086"
      },
      "source": [
        "import matplotlib.pyplot as plt\n",
        "\n",
        "\n",
        "def plot(keys, title='title', ylabel='y'):\n",
        "    for key in keys:\n",
        "        plt.plot(history.history[key])\n",
        "        plt.plot(history.history[key])\n",
        "        \n",
        "    plt.title(title)\n",
        "    plt.ylabel(ylabel)\n",
        "    plt.xlabel('epoch')\n",
        "    \n",
        "    plt.legend(keys, loc='upper left')\n",
        "    \n",
        "    plt.show()\n",
        "    \n",
        "plot(['loss', 'val_loss'], 'loss')\n",
        "plot(['mae', 'val_mae'], 'mae')\n",
        "plot(['mape', 'val_mape'], 'mape')\n"
      ],
      "id": "ambient-spectrum",
      "execution_count": null,
      "outputs": [
        {
          "output_type": "error",
          "ename": "KeyError",
          "evalue": "ignored",
          "traceback": [
            "\u001b[0;31m---------------------------------------------------------------------------\u001b[0m",
            "\u001b[0;31mKeyError\u001b[0m                                  Traceback (most recent call last)",
            "\u001b[0;32m<ipython-input-29-94a3f2183123>\u001b[0m in \u001b[0;36m<module>\u001b[0;34m()\u001b[0m\n\u001b[1;32m     15\u001b[0m     \u001b[0mplt\u001b[0m\u001b[0;34m.\u001b[0m\u001b[0mshow\u001b[0m\u001b[0;34m(\u001b[0m\u001b[0;34m)\u001b[0m\u001b[0;34m\u001b[0m\u001b[0;34m\u001b[0m\u001b[0m\n\u001b[1;32m     16\u001b[0m \u001b[0;34m\u001b[0m\u001b[0m\n\u001b[0;32m---> 17\u001b[0;31m \u001b[0mplot\u001b[0m\u001b[0;34m(\u001b[0m\u001b[0;34m[\u001b[0m\u001b[0;34m'loss'\u001b[0m\u001b[0;34m,\u001b[0m \u001b[0;34m'val_loss'\u001b[0m\u001b[0;34m]\u001b[0m\u001b[0;34m,\u001b[0m \u001b[0;34m'loss'\u001b[0m\u001b[0;34m)\u001b[0m\u001b[0;34m\u001b[0m\u001b[0;34m\u001b[0m\u001b[0m\n\u001b[0m\u001b[1;32m     18\u001b[0m \u001b[0mplot\u001b[0m\u001b[0;34m(\u001b[0m\u001b[0;34m[\u001b[0m\u001b[0;34m'mae'\u001b[0m\u001b[0;34m,\u001b[0m \u001b[0;34m'val_mae'\u001b[0m\u001b[0;34m]\u001b[0m\u001b[0;34m,\u001b[0m \u001b[0;34m'mae'\u001b[0m\u001b[0;34m)\u001b[0m\u001b[0;34m\u001b[0m\u001b[0;34m\u001b[0m\u001b[0m\n\u001b[1;32m     19\u001b[0m \u001b[0mplot\u001b[0m\u001b[0;34m(\u001b[0m\u001b[0;34m[\u001b[0m\u001b[0;34m'mape'\u001b[0m\u001b[0;34m,\u001b[0m \u001b[0;34m'val_mape'\u001b[0m\u001b[0;34m]\u001b[0m\u001b[0;34m,\u001b[0m \u001b[0;34m'mape'\u001b[0m\u001b[0;34m)\u001b[0m\u001b[0;34m\u001b[0m\u001b[0;34m\u001b[0m\u001b[0m\n",
            "\u001b[0;32m<ipython-input-29-94a3f2183123>\u001b[0m in \u001b[0;36mplot\u001b[0;34m(keys, title, ylabel)\u001b[0m\n\u001b[1;32m      4\u001b[0m \u001b[0;32mdef\u001b[0m \u001b[0mplot\u001b[0m\u001b[0;34m(\u001b[0m\u001b[0mkeys\u001b[0m\u001b[0;34m,\u001b[0m \u001b[0mtitle\u001b[0m\u001b[0;34m=\u001b[0m\u001b[0;34m'title'\u001b[0m\u001b[0;34m,\u001b[0m \u001b[0mylabel\u001b[0m\u001b[0;34m=\u001b[0m\u001b[0;34m'y'\u001b[0m\u001b[0;34m)\u001b[0m\u001b[0;34m:\u001b[0m\u001b[0;34m\u001b[0m\u001b[0;34m\u001b[0m\u001b[0m\n\u001b[1;32m      5\u001b[0m     \u001b[0;32mfor\u001b[0m \u001b[0mkey\u001b[0m \u001b[0;32min\u001b[0m \u001b[0mkeys\u001b[0m\u001b[0;34m:\u001b[0m\u001b[0;34m\u001b[0m\u001b[0;34m\u001b[0m\u001b[0m\n\u001b[0;32m----> 6\u001b[0;31m         \u001b[0mplt\u001b[0m\u001b[0;34m.\u001b[0m\u001b[0mplot\u001b[0m\u001b[0;34m(\u001b[0m\u001b[0mhistory\u001b[0m\u001b[0;34m.\u001b[0m\u001b[0mhistory\u001b[0m\u001b[0;34m[\u001b[0m\u001b[0mkey\u001b[0m\u001b[0;34m]\u001b[0m\u001b[0;34m)\u001b[0m\u001b[0;34m\u001b[0m\u001b[0;34m\u001b[0m\u001b[0m\n\u001b[0m\u001b[1;32m      7\u001b[0m         \u001b[0mplt\u001b[0m\u001b[0;34m.\u001b[0m\u001b[0mplot\u001b[0m\u001b[0;34m(\u001b[0m\u001b[0mhistory\u001b[0m\u001b[0;34m.\u001b[0m\u001b[0mhistory\u001b[0m\u001b[0;34m[\u001b[0m\u001b[0mkey\u001b[0m\u001b[0;34m]\u001b[0m\u001b[0;34m)\u001b[0m\u001b[0;34m\u001b[0m\u001b[0;34m\u001b[0m\u001b[0m\n\u001b[1;32m      8\u001b[0m \u001b[0;34m\u001b[0m\u001b[0m\n",
            "\u001b[0;31mKeyError\u001b[0m: 'val_loss'"
          ]
        },
        {
          "output_type": "display_data",
          "data": {
            "image/png": "[encoded data removed]",
            "text/plain": [
              "<Figure size 432x288 with 1 Axes>"
            ]
          },
          "metadata": {
            "tags": [],
            "needs_background": "light"
          }
        }
      ]
    },
    {
      "cell_type": "code",
      "metadata": {
        "id": "stone-avenue"
      },
      "source": [
        ""
      ],
      "id": "stone-avenue",
      "execution_count": null,
      "outputs": []
    }
  ]
}