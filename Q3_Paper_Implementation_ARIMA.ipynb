{
  "nbformat": 4,
  "nbformat_minor": 0,
  "metadata": {
    "colab": {
      "name": "Q3_Paper_Implementation_ARIMA.ipynb",
      "provenance": [],
      "collapsed_sections": []
    },
    "kernelspec": {
      "name": "python3",
      "display_name": "Python 3"
    },
    "language_info": {
      "name": "python"
    }
  },
  "cells": [
    {
      "cell_type": "code",
      "metadata": {
        "colab": {
          "base_uri": "https://localhost:8080/"
        },
        "id": "4WuLrWoH1y1f",
        "outputId": "21bf0296-aeca-429f-de26-b1aedfd35417"
      },
      "source": [
        "!pip install yfinance"
      ],
      "execution_count": null,
      "outputs": [
        {
          "output_type": "stream",
          "text": [
            "Requirement already satisfied: yfinance in /usr/local/lib/python3.7/dist-packages (0.1.63)\n",
            "Requirement already satisfied: pandas>=0.24 in /usr/local/lib/python3.7/dist-packages (from yfinance) (1.1.5)\n",
            "Requirement already satisfied: multitasking>=0.0.7 in /usr/local/lib/python3.7/dist-packages (from yfinance) (0.0.9)\n",
            "Requirement already satisfied: requests>=2.20 in /usr/local/lib/python3.7/dist-packages (from yfinance) (2.23.0)\n",
            "Requirement already satisfied: numpy>=1.15 in /usr/local/lib/python3.7/dist-packages (from yfinance) (1.19.5)\n",
            "Requirement already satisfied: lxml>=4.5.1 in /usr/local/lib/python3.7/dist-packages (from yfinance) (4.6.3)\n",
            "Requirement already satisfied: pytz>=2017.2 in /usr/local/lib/python3.7/dist-packages (from pandas>=0.24->yfinance) (2018.9)\n",
            "Requirement already satisfied: python-dateutil>=2.7.3 in /usr/local/lib/python3.7/dist-packages (from pandas>=0.24->yfinance) (2.8.2)\n",
            "Requirement already satisfied: six>=1.5 in /usr/local/lib/python3.7/dist-packages (from python-dateutil>=2.7.3->pandas>=0.24->yfinance) (1.15.0)\n",
            "Requirement already satisfied: chardet<4,>=3.0.2 in /usr/local/lib/python3.7/dist-packages (from requests>=2.20->yfinance) (3.0.4)\n",
            "Requirement already satisfied: certifi>=2017.4.17 in /usr/local/lib/python3.7/dist-packages (from requests>=2.20->yfinance) (2021.5.30)\n",
            "Requirement already satisfied: urllib3!=1.25.0,!=1.25.1,<1.26,>=1.21.1 in /usr/local/lib/python3.7/dist-packages (from requests>=2.20->yfinance) (1.24.3)\n",
            "Requirement already satisfied: idna<3,>=2.5 in /usr/local/lib/python3.7/dist-packages (from requests>=2.20->yfinance) (2.10)\n"
          ],
          "name": "stdout"
        }
      ]
    },
    {
      "cell_type": "code",
      "metadata": {
        "colab": {
          "base_uri": "https://localhost:8080/"
        },
        "id": "QL_l82RRy7bh",
        "outputId": "57bf2310-0071-457b-8f9a-e4feb140203a"
      },
      "source": [
        "import yfinance as yf\n",
        "#Import and Stationarize the data \n",
        "data = yf.download([\"^NSEI\"], start=\"2020-08-01\", end=\"2021-08-1\")\n",
        "data['St_Close'] = data['Adj Close'].diff()\n",
        "returns = np.array(data.dropna()['St_Close'])"
      ],
      "execution_count": null,
      "outputs": [
        {
          "output_type": "stream",
          "text": [
            "\r[*********************100%***********************]  1 of 1 completed\n"
          ],
          "name": "stdout"
        }
      ]
    },
    {
      "cell_type": "code",
      "metadata": {
        "id": "oLe7Wk7nP4yx"
      },
      "source": [
        "from cvxopt import matrix, spmatrix, solvers\n",
        "\n",
        "def l1_trend_filter(y,lambdaaa):\n",
        "\n",
        "    n = len(y)\n",
        "    m = n-2\n",
        "    y = spmatrix(y,range(n),[0]*n,tc='d')\n",
        "    D = spmatrix([1,-2,1]*m,\n",
        "                 [j for i in range(m) for j in [i]*3],\n",
        "                 [j for i in range(m) for j in [i,i+1,i+2]],tc='d')\n",
        "\n",
        "    P = D * D.T\n",
        "    q = D * y * (-1)\n",
        "    q = matrix(q)\n",
        "    G = spmatrix([1]*m+[-1]*m, range(2*m), 2*[*range(m)])\n",
        "    h = matrix(lambdaaa, (2*m, 1))\n",
        "    res = solvers.qp(P, q, G, h)\n",
        "    sol = y - D.T * res['x']\n",
        "    return sol"
      ],
      "execution_count": null,
      "outputs": []
    },
    {
      "cell_type": "code",
      "metadata": {
        "colab": {
          "base_uri": "https://localhost:8080/"
        },
        "id": "w2ujZaht2WpI",
        "outputId": "3c777c7f-20da-4628-ada2-17769fc4902a"
      },
      "source": [
        "a1 = l1_trend_filter(returns, 0.005)\n"
      ],
      "execution_count": null,
      "outputs": [
        {
          "output_type": "stream",
          "text": [
            "     pcost       dcost       gap    pres   dres\n",
            " 0: -1.6398e+06 -9.0586e+05  1e+07  4e+03  1e-16\n",
            " 1: -9.5788e+05 -3.3650e+05  5e+06  1e+03  1e-15\n",
            " 2: -3.1424e+05 -3.6714e+04  1e+06  3e+02  8e-16\n",
            " 3: -9.6502e+03 -7.5967e+02  7e+04  1e+01  4e-16\n",
            " 4: -2.9844e+02 -6.9975e+02  1e+03  1e-01  3e-16\n",
            " 5: -2.4408e+02 -3.6259e+02  1e+02  2e-05  2e-16\n",
            " 6: -2.7951e+02 -3.0470e+02  3e+01  1e-06  2e-16\n",
            " 7: -2.8803e+02 -2.9291e+02  5e+00  1e-07  3e-16\n",
            " 8: -2.9004e+02 -2.9032e+02  3e-01  5e-09  3e-16\n",
            " 9: -2.9016e+02 -2.9017e+02  1e-02  2e-11  3e-16\n",
            "10: -2.9017e+02 -2.9017e+02  1e-04  2e-13  3e-16\n",
            "Optimal solution found.\n"
          ],
          "name": "stdout"
        }
      ]
    },
    {
      "cell_type": "code",
      "metadata": {
        "colab": {
          "base_uri": "https://localhost:8080/"
        },
        "id": "7jxhcj4Q3KfI",
        "outputId": "31167c2f-3c50-4f17-a873-232e2e22f6dc"
      },
      "source": [
        "l1 = []\n",
        "for i in a1:\n",
        "  l1.append(i)\n"
      ],
      "execution_count": null,
      "outputs": [
        {
          "output_type": "execute_result",
          "data": {
            "text/plain": [
              "[203.64539062602967,\n",
              " 6.415390621258754,\n",
              " 98.48000000673362,\n",
              " 13.919414049662366,\n",
              " 56.090585948044655,\n",
              " 52.33960938210329,\n",
              " -14.079609390386198,\n",
              " -7.9701953025008745,\n",
              " -122.02980469437026,\n",
              " 68.68921875426528,\n",
              " 138.2499999269343,\n",
              " 23.040781397142215,\n",
              " -96.18019539096794,\n",
              " 59.38941406613772,\n",
              " 94.84058594164328,\n",
              " 5.819804679291735,\n",
              " 77.32960938313505,\n",
              " 9.670390618117134,\n",
              " 88.32960937885623,\n",
              " -260.0796093773879,\n",
              " 82.73999999666451,\n",
              " 64.75000000740758,\n",
              " -7.5598046869649185,\n",
              " -193.58058594268195,\n",
              " 21.180195320625902,\n",
              " -37.69019532259601,\n",
              " -39.339609373412344,\n",
              " 171.2300000055756,\n",
              " 15.210195308623042,\n",
              " -24.390390629319235,\n",
              " 81.74000000591552,\n",
              " 82.74000000184363,\n",
              " -88.43019531755247,\n",
              " -11.169414058696125,\n",
              " -254.38039063102045,\n",
              " -96.90941405533938,\n",
              " -21.810781251688006,\n",
              " -326.27980468943525,\n",
              " 244.69019531122,\n",
              " 177.28980469354252,\n",
              " -5.13941406525125,\n",
              " 25.159414057385703,\n",
              " 169.3803906321285,\n",
              " 86.41941405546258,\n",
              " 159.03078125864405,\n",
              " 76.46921873387508,\n",
              " 95.74000001329487,\n",
              " 79.59058594792813,\n",
              " 16.759999987969476,\n",
              " 3.559804679862368,\n",
              " 36.52980469600037,\n",
              " -290.6801953150466,\n",
              " 82.09058593710519,\n",
              " 110.58960938209552,\n",
              " 23.769999988748836,\n",
              " 40.830585948218825,\n",
              " -41.18019532036118,\n",
              " 33.87941406720318,\n",
              " -162.57960937786635,\n",
              " 121.63039062745588,\n",
              " -159.78078125628755,\n",
              " -58.81980466635709,\n",
              " -28.389414085867624,\n",
              " 26.760000000667645,\n",
              " 144.32960938510382,\n",
              " 95.01999999304248,\n",
              " 211.77980469491024,\n",
              " 143.26999998993398,\n",
              " 197.4899999975724,\n",
              " 170.04980470569384,\n",
              " 118.04078124379399,\n",
              " -58.3405859341871,\n",
              " 29.160390608835684,\n",
              " 154.24000000860653,\n",
              " 64.03980469096064,\n",
              " -166.5298046919324,\n",
              " 87.32960938142307,\n",
              " 67.4203906158763,\n",
              " 128.68019531813317,\n",
              " -196.7300000023205,\n",
              " 128.57960937770267,\n",
              " -18.029804691105873,\n",
              " 140.07960937997728,\n",
              " 4.710195310868969,\n",
              " 20.160390618082968,\n",
              " 124.63941406118515,\n",
              " 97.19019533037333,\n",
              " 37.220195298595705,\n",
              " 136.12941406754265,\n",
              " -50.77980469454646,\n",
              " 35.539804689354895,\n",
              " 44.29078126206862,\n",
              " 9.719218737034115,\n",
              " 114.83058595900314,\n",
              " 58.01999996601947,\n",
              " 19.82960939244706,\n",
              " -432.1294140643252,\n",
              " 137.87941408182758,\n",
              " 134.81980464307546,\n",
              " 148.1403906514356,\n",
              " 123.94019532481936,\n",
              " 59.41941403669969,\n",
              " 49.33058595943338,\n",
              " -0.18019532422054635,\n",
              " 151.1403906205272,\n",
              " 66.58960939249594,\n",
              " -53.240000010382765,\n",
              " -8.890390627624667,\n",
              " 209.8803906505667,\n",
              " 137.5199999393398,\n",
              " 78.68019536910451,\n",
              " 1.4194140395924502,\n",
              " 30.730000006934862,\n",
              " -161.88941406600406,\n",
              " -152.39039062567386,\n",
              " 239.84058593472585,\n",
              " 123.53980471670701,\n",
              " -54.34058598171507,\n",
              " -218.439218733373,\n",
              " -133.01999999500552,\n",
              " -271.3803906305349,\n",
              " -149.970195307176,\n",
              " -182.93019531537698,\n",
              " 646.5805859437422,\n",
              " 366.65941405309303,\n",
              " 142.1105859324366,\n",
              " 105.68019532984533,\n",
              " 28.6196093644318,\n",
              " 191.52980469186534,\n",
              " -6.489999999259419,\n",
              " -2.789804697083037,\n",
              " 66.77980469732069,\n",
              " -9.980000005476658,\n",
              " 151.3803906341711,\n",
              " -1.2400000104911277,\n",
              " -104.53980469130225,\n",
              " -89.96019530280246,\n",
              " -137.21019531184916,\n",
              " -306.0298046942021,\n",
              " 32.089609381015045,\n",
              " 274.20019531033654,\n",
              " 115.33960937559269,\n",
              " -568.1792187513115,\n",
              " 232.37941406460553,\n",
              " 157.56980468426138,\n",
              " 326.4800000027078,\n",
              " -164.83960937448663,\n",
              " -142.64039063682895,\n",
              " 18.090585954373413,\n",
              " 142.20019530555206,\n",
              " 76.38941406591343,\n",
              " -143.83960937173381,\n",
              " -101.44019532745908,\n",
              " -19.069804676164896,\n",
              " -189.14039062829661,\n",
              " -163.4401953133715,\n",
              " 186.1303906280869,\n",
              " -7.579609378380008,\n",
              " 78.32960937823265,\n",
              " -265.33960937642985,\n",
              " -224.49000000204035,\n",
              " 182.3894140652247,\n",
              " 337.78980468759886,\n",
              " -154.3794140640911,\n",
              " 176.62941406411088,\n",
              " -229.52980469038388,\n",
              " 45.690195314405265,\n",
              " 135.54980466755575,\n",
              " 54.75000004113631,\n",
              " -38.96019533254638,\n",
              " -524.0298046891149,\n",
              " 193.98000000481042,\n",
              " 76.67039061577644,\n",
              " 36.379414069295706,\n",
              " -258.37941407799667,\n",
              " -63.05980466152898,\n",
              " 109.7399999893851,\n",
              " -64.78078125403049,\n",
              " 143.63039064448176,\n",
              " 168.0698046536123,\n",
              " 211.4900000154996,\n",
              " 30.3405859419565,\n",
              " -263.78078125442124,\n",
              " 3.03078125274374,\n",
              " -137.63039062831567,\n",
              " 121.3296094290954,\n",
              " 106.96019521914249,\n",
              " 98.36058596724241,\n",
              " 119.17921876464455,\n",
              " -91.58960937879061,\n",
              " -154.24999999869175,\n",
              " -18.690195316532957,\n",
              " 245.34058594017696,\n",
              " 184.93921875339214,\n",
              " -77.93921875353705,\n",
              " -124.09058593795014,\n",
              " 269.2300000028769,\n",
              " 22.410390625147308,\n",
              " 10.759999992837754,\n",
              " 92.98000000993461,\n",
              " 36.41941403058828,\n",
              " 97.79078130055105,\n",
              " 147.13941404246953,\n",
              " -7.940195314701438,\n",
              " 1.360585932370742,\n",
              " 114.12941406903786,\n",
              " -20.079609380259026,\n",
              " 81.39039015764648,\n",
              " -11.56078030718936,\n",
              " -104.73000047485921,\n",
              " 102.39039059227417,\n",
              " 61.58960944919714,\n",
              " 12.519999956106323,\n",
              " 57.380390632683046,\n",
              " -101.69019531010885,\n",
              " -76.14941397696377,\n",
              " -8.040781441783219,\n",
              " 63.14039072456444,\n",
              " 26.24000000616309,\n",
              " -85.77980469476284,\n",
              " 103.4900000000608,\n",
              " 69.88941407147712,\n",
              " -45.63941406735719,\n",
              " -66.24000001236084,\n",
              " -26.970195293446597,\n",
              " -41.480000033068634,\n",
              " 42.19019535702015,\n",
              " 112.13941404544418,\n",
              " -16.079609380415764,\n",
              " 61.38039062940735,\n",
              " -151.730000006914,\n",
              " -38.12058592456536,\n",
              " 2.819804674127168,\n",
              " 119.7300000097178,\n",
              " 41.62058592744635,\n",
              " 70.24000000573818,\n",
              " -0.8098046831534477,\n",
              " -170.99000000454242,\n",
              " -120.2907812515615,\n",
              " 191.9301953179808,\n",
              " 32.010000009723186,\n",
              " -31.599609401560485,\n",
              " -77.99999998569443,\n",
              " -37.03980469480277,\n",
              " 69.0348046951844,\n",
              " -15.395390626560252]"
            ]
          },
          "metadata": {
            "tags": []
          },
          "execution_count": 59
        }
      ]
    },
    {
      "cell_type": "code",
      "metadata": {
        "id": "gPCkgLXw3gsj"
      },
      "source": [
        "import pandas as pd\n",
        "import numpy as np\n",
        "import matplotlib.pyplot as plt\n",
        "import statsmodels.graphics.tsaplots as sgt\n",
        "import statsmodels.tsa.stattools as sts\n",
        "from statsmodels.tsa.arima_model import ARIMA\n",
        "from scipy.stats.distributions import chi2 \n",
        "from math import sqrt\n",
        "import seaborn as sns\n",
        "sns.set()"
      ],
      "execution_count": null,
      "outputs": []
    },
    {
      "cell_type": "code",
      "metadata": {
        "colab": {
          "base_uri": "https://localhost:8080/",
          "height": 278
        },
        "id": "txuP5RDv4nN5",
        "outputId": "09ad1349-ca1a-4643-b3e7-7a39b265ac26"
      },
      "source": [
        "model_ar_1_i_1_ma_1 = ARIMA(returns, order=(1,0,0))\n",
        "results_ar_1_i_1_ma_1 = model_ar_1_i_1_ma_1.fit()\n",
        "results_ar_1_i_1_ma_1.summary()"
      ],
      "execution_count": null,
      "outputs": [
        {
          "output_type": "execute_result",
          "data": {
            "text/html": [
              "<table class=\"simpletable\">\n",
              "<caption>ARMA Model Results</caption>\n",
              "<tr>\n",
              "  <th>Dep. Variable:</th>         <td>y</td>        <th>  No. Observations:  </th>    <td>246</td>   \n",
              "</tr>\n",
              "<tr>\n",
              "  <th>Model:</th>            <td>ARMA(1, 0)</td>    <th>  Log Likelihood     </th> <td>-1568.469</td>\n",
              "</tr>\n",
              "<tr>\n",
              "  <th>Method:</th>             <td>css-mle</td>     <th>  S.D. of innovations</th>  <td>142.158</td> \n",
              "</tr>\n",
              "<tr>\n",
              "  <th>Date:</th>          <td>Sun, 15 Aug 2021</td> <th>  AIC                </th> <td>3142.938</td> \n",
              "</tr>\n",
              "<tr>\n",
              "  <th>Time:</th>              <td>18:08:29</td>     <th>  BIC                </th> <td>3153.454</td> \n",
              "</tr>\n",
              "<tr>\n",
              "  <th>Sample:</th>                <td>0</td>        <th>  HQIC               </th> <td>3147.172</td> \n",
              "</tr>\n",
              "<tr>\n",
              "  <th></th>                       <td> </td>        <th>                     </th>     <td> </td>    \n",
              "</tr>\n",
              "</table>\n",
              "<table class=\"simpletable\">\n",
              "<tr>\n",
              "     <td></td>        <th>coef</th>     <th>std err</th>      <th>z</th>      <th>P>|z|</th>  <th>[0.025</th>    <th>0.975]</th>  \n",
              "</tr>\n",
              "<tr>\n",
              "  <th>const</th>   <td>   19.8448</td> <td>    9.693</td> <td>    2.047</td> <td> 0.042</td> <td>    0.847</td> <td>   38.842</td>\n",
              "</tr>\n",
              "<tr>\n",
              "  <th>ar.L1.y</th> <td>    0.0652</td> <td>    0.064</td> <td>    1.023</td> <td> 0.307</td> <td>   -0.060</td> <td>    0.190</td>\n",
              "</tr>\n",
              "</table>\n",
              "<table class=\"simpletable\">\n",
              "<caption>Roots</caption>\n",
              "<tr>\n",
              "    <td></td>   <th>            Real</th>  <th>         Imaginary</th> <th>         Modulus</th>  <th>        Frequency</th>\n",
              "</tr>\n",
              "<tr>\n",
              "  <th>AR.1</th> <td>          15.3458</td> <td>          +0.0000j</td> <td>          15.3458</td> <td>           0.0000</td>\n",
              "</tr>\n",
              "</table>"
            ],
            "text/plain": [
              "<class 'statsmodels.iolib.summary.Summary'>\n",
              "\"\"\"\n",
              "                              ARMA Model Results                              \n",
              "==============================================================================\n",
              "Dep. Variable:                      y   No. Observations:                  246\n",
              "Model:                     ARMA(1, 0)   Log Likelihood               -1568.469\n",
              "Method:                       css-mle   S.D. of innovations            142.158\n",
              "Date:                Sun, 15 Aug 2021   AIC                           3142.938\n",
              "Time:                        18:08:29   BIC                           3153.454\n",
              "Sample:                             0   HQIC                          3147.172\n",
              "                                                                              \n",
              "==============================================================================\n",
              "                 coef    std err          z      P>|z|      [0.025      0.975]\n",
              "------------------------------------------------------------------------------\n",
              "const         19.8448      9.693      2.047      0.042       0.847      38.842\n",
              "ar.L1.y        0.0652      0.064      1.023      0.307      -0.060       0.190\n",
              "                                    Roots                                    \n",
              "=============================================================================\n",
              "                  Real          Imaginary           Modulus         Frequency\n",
              "-----------------------------------------------------------------------------\n",
              "AR.1           15.3458           +0.0000j           15.3458            0.0000\n",
              "-----------------------------------------------------------------------------\n",
              "\"\"\""
            ]
          },
          "metadata": {
            "tags": []
          },
          "execution_count": 61
        }
      ]
    },
    {
      "cell_type": "code",
      "metadata": {
        "colab": {
          "base_uri": "https://localhost:8080/",
          "height": 278
        },
        "id": "0ceYfC424wKm",
        "outputId": "be30c226-de26-40cf-b26b-ed503fb2d740"
      },
      "source": [
        "model_ar_1_i_1_ma_2 = ARIMA(l1, order=(1,0,0))\n",
        "results_ar_1_i_1_ma_2 = model_ar_1_i_1_ma_2.fit()\n",
        "results_ar_1_i_1_ma_2.summary()"
      ],
      "execution_count": null,
      "outputs": [
        {
          "output_type": "execute_result",
          "data": {
            "text/html": [
              "<table class=\"simpletable\">\n",
              "<caption>ARMA Model Results</caption>\n",
              "<tr>\n",
              "  <th>Dep. Variable:</th>         <td>y</td>        <th>  No. Observations:  </th>    <td>246</td>   \n",
              "</tr>\n",
              "<tr>\n",
              "  <th>Model:</th>            <td>ARMA(1, 0)</td>    <th>  Log Likelihood     </th> <td>-1568.453</td>\n",
              "</tr>\n",
              "<tr>\n",
              "  <th>Method:</th>             <td>css-mle</td>     <th>  S.D. of innovations</th>  <td>142.149</td> \n",
              "</tr>\n",
              "<tr>\n",
              "  <th>Date:</th>          <td>Sun, 15 Aug 2021</td> <th>  AIC                </th> <td>3142.906</td> \n",
              "</tr>\n",
              "<tr>\n",
              "  <th>Time:</th>              <td>18:08:30</td>     <th>  BIC                </th> <td>3153.422</td> \n",
              "</tr>\n",
              "<tr>\n",
              "  <th>Sample:</th>                <td>0</td>        <th>  HQIC               </th> <td>3147.141</td> \n",
              "</tr>\n",
              "<tr>\n",
              "  <th></th>                       <td> </td>        <th>                     </th>     <td> </td>    \n",
              "</tr>\n",
              "</table>\n",
              "<table class=\"simpletable\">\n",
              "<tr>\n",
              "     <td></td>        <th>coef</th>     <th>std err</th>      <th>z</th>      <th>P>|z|</th>  <th>[0.025</th>    <th>0.975]</th>  \n",
              "</tr>\n",
              "<tr>\n",
              "  <th>const</th>   <td>   19.8446</td> <td>    9.693</td> <td>    2.047</td> <td> 0.042</td> <td>    0.846</td> <td>   38.843</td>\n",
              "</tr>\n",
              "<tr>\n",
              "  <th>ar.L1.y</th> <td>    0.0652</td> <td>    0.064</td> <td>    1.024</td> <td> 0.307</td> <td>   -0.060</td> <td>    0.190</td>\n",
              "</tr>\n",
              "</table>\n",
              "<table class=\"simpletable\">\n",
              "<caption>Roots</caption>\n",
              "<tr>\n",
              "    <td></td>   <th>            Real</th>  <th>         Imaginary</th> <th>         Modulus</th>  <th>        Frequency</th>\n",
              "</tr>\n",
              "<tr>\n",
              "  <th>AR.1</th> <td>          15.3265</td> <td>          +0.0000j</td> <td>          15.3265</td> <td>           0.0000</td>\n",
              "</tr>\n",
              "</table>"
            ],
            "text/plain": [
              "<class 'statsmodels.iolib.summary.Summary'>\n",
              "\"\"\"\n",
              "                              ARMA Model Results                              \n",
              "==============================================================================\n",
              "Dep. Variable:                      y   No. Observations:                  246\n",
              "Model:                     ARMA(1, 0)   Log Likelihood               -1568.453\n",
              "Method:                       css-mle   S.D. of innovations            142.149\n",
              "Date:                Sun, 15 Aug 2021   AIC                           3142.906\n",
              "Time:                        18:08:30   BIC                           3153.422\n",
              "Sample:                             0   HQIC                          3147.141\n",
              "                                                                              \n",
              "==============================================================================\n",
              "                 coef    std err          z      P>|z|      [0.025      0.975]\n",
              "------------------------------------------------------------------------------\n",
              "const         19.8446      9.693      2.047      0.042       0.846      38.843\n",
              "ar.L1.y        0.0652      0.064      1.024      0.307      -0.060       0.190\n",
              "                                    Roots                                    \n",
              "=============================================================================\n",
              "                  Real          Imaginary           Modulus         Frequency\n",
              "-----------------------------------------------------------------------------\n",
              "AR.1           15.3265           +0.0000j           15.3265            0.0000\n",
              "-----------------------------------------------------------------------------\n",
              "\"\"\""
            ]
          },
          "metadata": {
            "tags": []
          },
          "execution_count": 62
        }
      ]
    },
    {
      "cell_type": "code",
      "metadata": {
        "id": "NGpz6gX3AcHD"
      },
      "source": [
        ""
      ],
      "execution_count": null,
      "outputs": []
    }
  ]
}